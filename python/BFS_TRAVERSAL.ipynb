{
  "nbformat": 4,
  "nbformat_minor": 0,
  "metadata": {
    "colab": {
      "name": "TensorFlow with GPU",
      "provenance": [],
      "collapsed_sections": [],
      "include_colab_link": true
    },
    "kernelspec": {
      "name": "python3",
      "display_name": "Python 3"
    },
    "accelerator": "GPU"
  },
  "cells": [
    {
      "cell_type": "markdown",
      "metadata": {
        "id": "view-in-github",
        "colab_type": "text"
      },
      "source": [
        "<a href=\"https://colab.research.google.com/github/priyanshgupta1998/Programming-/blob/master/python/BFS_TRAVERSAL.ipynb\" target=\"_parent\"><img src=\"https://colab.research.google.com/assets/colab-badge.svg\" alt=\"Open In Colab\"/></a>"
      ]
    },
    {
      "cell_type": "markdown",
      "metadata": {
        "id": "Ho8S9z8cNYXH",
        "colab_type": "text"
      },
      "source": [
        "#Creation of the node with left and right node in the Tree (Construct a binary Tree)"
      ]
    },
    {
      "cell_type": "code",
      "metadata": {
        "id": "zStUu-7xMnMS",
        "colab_type": "code",
        "colab": {}
      },
      "source": [
        "from pprint import pprint"
      ],
      "execution_count": 0,
      "outputs": []
    },
    {
      "cell_type": "code",
      "metadata": {
        "id": "RZT6PKtPJ2Yd",
        "colab_type": "code",
        "colab": {
          "base_uri": "https://localhost:8080/",
          "height": 51
        },
        "outputId": "bfc84349-4c42-4bd6-f339-89f5c417ebc1"
      },
      "source": [
        "n = int(input())\n",
        "arr = input().strip().split()"
      ],
      "execution_count": 1,
      "outputs": [
        {
          "output_type": "stream",
          "text": [
            "4\n",
            "10 20 L 10 30 R 20 40 L 20 60 R\n"
          ],
          "name": "stdout"
        }
      ]
    },
    {
      "cell_type": "code",
      "metadata": {
        "id": "gDLLJ1LzJ2by",
        "colab_type": "code",
        "colab": {}
      },
      "source": [
        "class Node:\n",
        "  def __init__(self, val):\n",
        "    self.right = None\n",
        "    self.left = None\n",
        "    self.data  = val"
      ],
      "execution_count": 0,
      "outputs": []
    },
    {
      "cell_type": "code",
      "metadata": {
        "id": "yXpd3w_vJ2sx",
        "colab_type": "code",
        "colab": {}
      },
      "source": [
        "class Tree:\n",
        "  def createNode(self, data):\n",
        "    return Node(data)"
      ],
      "execution_count": 0,
      "outputs": []
    },
    {
      "cell_type": "code",
      "metadata": {
        "id": "b-cDSWI2J25C",
        "colab_type": "code",
        "colab": {
          "base_uri": "https://localhost:8080/",
          "height": 102
        },
        "outputId": "832883cf-4f24-4a70-b864-eb0e347d1989"
      },
      "source": [
        "lis= {}\n",
        "root =None\n",
        "tree = Tree()\n",
        "k = 0\n",
        "root = tree.createNode(int(arr[0]))\n",
        "lis[root.data] = root\n",
        "for i in range(n):\n",
        "  if(int(arr[k]) in lis):\n",
        "    ptr = tree.createNode(int(arr[k+1]))  #Node pointer\n",
        "    if(arr[k+2] == 'L'):\n",
        "      lis[int(arr[k])].left = ptr\n",
        "    else:\n",
        "      lis[int(arr[k])].right = ptr\n",
        "    lis[int(arr[k+1])] = ptr       #insert the value in the dictionary\n",
        "    k+=3\n",
        "pprint(lis)\n",
        "    "
      ],
      "execution_count": 13,
      "outputs": [
        {
          "output_type": "stream",
          "text": [
            "{10: <__main__.Node object at 0x7f5b16c21e80>,\n",
            " 20: <__main__.Node object at 0x7f5b16c200f0>,\n",
            " 30: <__main__.Node object at 0x7f5b16c20160>,\n",
            " 40: <__main__.Node object at 0x7f5b16ccfc88>,\n",
            " 60: <__main__.Node object at 0x7f5b16ccffd0>}\n"
          ],
          "name": "stdout"
        }
      ]
    },
    {
      "cell_type": "code",
      "metadata": {
        "id": "EWdjZsaqJ3OG",
        "colab_type": "code",
        "colab": {
          "base_uri": "https://localhost:8080/",
          "height": 34
        },
        "outputId": "5119b049-f470-4486-88b1-84b8644c3aeb"
      },
      "source": [
        "lis[10].right.data"
      ],
      "execution_count": 16,
      "outputs": [
        {
          "output_type": "execute_result",
          "data": {
            "text/plain": [
              "30"
            ]
          },
          "metadata": {
            "tags": []
          },
          "execution_count": 16
        }
      ]
    },
    {
      "cell_type": "code",
      "metadata": {
        "id": "lmXdpibjJ3SR",
        "colab_type": "code",
        "colab": {
          "base_uri": "https://localhost:8080/",
          "height": 34
        },
        "outputId": "504d3ef8-f38a-48cf-ca07-578c0c7524d2"
      },
      "source": [
        "lis[20].left"
      ],
      "execution_count": 17,
      "outputs": [
        {
          "output_type": "execute_result",
          "data": {
            "text/plain": [
              "<__main__.Node at 0x7f5b16ccfc88>"
            ]
          },
          "metadata": {
            "tags": []
          },
          "execution_count": 17
        }
      ]
    },
    {
      "cell_type": "code",
      "metadata": {
        "id": "oE5C_huPJ3Ls",
        "colab_type": "code",
        "colab": {
          "base_uri": "https://localhost:8080/",
          "height": 34
        },
        "outputId": "c0d97354-b3c6-405b-e745-f7419632f04a"
      },
      "source": [
        "lis[20].left.data"
      ],
      "execution_count": 18,
      "outputs": [
        {
          "output_type": "execute_result",
          "data": {
            "text/plain": [
              "40"
            ]
          },
          "metadata": {
            "tags": []
          },
          "execution_count": 18
        }
      ]
    },
    {
      "cell_type": "code",
      "metadata": {
        "id": "Xed1_ZQJOIff",
        "colab_type": "code",
        "colab": {
          "base_uri": "https://localhost:8080/",
          "height": 34
        },
        "outputId": "7d5d83ec-0822-452a-b92d-5338915dcc58"
      },
      "source": [
        "root.left.left.data"
      ],
      "execution_count": 23,
      "outputs": [
        {
          "output_type": "execute_result",
          "data": {
            "text/plain": [
              "40"
            ]
          },
          "metadata": {
            "tags": []
          },
          "execution_count": 23
        }
      ]
    },
    {
      "cell_type": "markdown",
      "metadata": {
        "id": "VZxsk5KHNmU5",
        "colab_type": "text"
      },
      "source": [
        "\n",
        "\n",
        "---\n",
        "\n",
        "\n",
        "\n",
        "---\n",
        "\n",
        "\n",
        "\n",
        "---\n",
        "\n"
      ]
    },
    {
      "cell_type": "code",
      "metadata": {
        "id": "1BRVF5UFJ3IR",
        "colab_type": "code",
        "colab": {}
      },
      "source": [
        "#Now  wehave root and pass this root to BFS traversal\n",
        "# so we can pass this 'root' ppointer into the level_order_traversal()function"
      ],
      "execution_count": 0,
      "outputs": []
    },
    {
      "cell_type": "code",
      "metadata": {
        "id": "fSVo9XvGJ3GS",
        "colab_type": "code",
        "colab": {}
      },
      "source": [
        ""
      ],
      "execution_count": 0,
      "outputs": []
    },
    {
      "cell_type": "code",
      "metadata": {
        "id": "UNNh8kXhOjWy",
        "colab_type": "code",
        "colab": {}
      },
      "source": [
        ""
      ],
      "execution_count": 0,
      "outputs": []
    },
    {
      "cell_type": "code",
      "metadata": {
        "id": "8i1K9YxJOjTQ",
        "colab_type": "code",
        "colab": {}
      },
      "source": [
        ""
      ],
      "execution_count": 0,
      "outputs": []
    },
    {
      "cell_type": "code",
      "metadata": {
        "id": "iY_WAF1QOjQY",
        "colab_type": "code",
        "colab": {}
      },
      "source": [
        ""
      ],
      "execution_count": 0,
      "outputs": []
    },
    {
      "cell_type": "code",
      "metadata": {
        "id": "akrkLLoGOjOh",
        "colab_type": "code",
        "colab": {}
      },
      "source": [
        ""
      ],
      "execution_count": 0,
      "outputs": []
    },
    {
      "cell_type": "code",
      "metadata": {
        "id": "IVGmbv1vOjLZ",
        "colab_type": "code",
        "colab": {}
      },
      "source": [
        ""
      ],
      "execution_count": 0,
      "outputs": []
    },
    {
      "cell_type": "markdown",
      "metadata": {
        "id": "69Lyft17Oj5a",
        "colab_type": "text"
      },
      "source": [
        "#Level order traversal or BFS"
      ]
    },
    {
      "cell_type": "markdown",
      "metadata": {
        "id": "lrayy6IsRfzO",
        "colab_type": "text"
      },
      "source": [
        "#METHOD 1 (Use function to print a given level)"
      ]
    },
    {
      "cell_type": "code",
      "metadata": {
        "id": "Fnv_fi7UJ3E0",
        "colab_type": "code",
        "colab": {
          "base_uri": "https://localhost:8080/",
          "height": 119
        },
        "outputId": "e190d161-900a-473c-fe53-680cd2656448"
      },
      "source": [
        "# Recursive Python program for level order traversal of Binary Tree \n",
        "class Node: \n",
        "\t# A utility function to create a new node \n",
        "\tdef __init__(self, key): \n",
        "\t\tself.data = key \n",
        "\t\tself.left = None\n",
        "\t\tself.right = None\n",
        "\n",
        "# Driver program to test above function \n",
        "roott = Node(10) \n",
        "roott.left = Node(20) \n",
        "roott.right = Node(30) \n",
        "roott.left.left = Node(40) \n",
        "roott.left.right = Node(60) \n",
        "\n",
        "# Compute the height of a tree--the number of nodes along the longest path from the root node down to the farthest leaf node \n",
        "def height(node): \n",
        "\tif node is None: \n",
        "\t\treturn 0\n",
        "\telse : \n",
        "\t\t# Compute the height of each subtree \n",
        "\t\tlheight = height(node.left) \n",
        "\t\trheight = height(node.right) \n",
        "\n",
        "\t\t#Use the larger one \n",
        "\t\tif lheight > rheight : \n",
        "\t\t\treturn lheight+1\n",
        "\t\telse: \n",
        "\t\t\treturn rheight+1\n",
        "\n",
        "# Function to print level order traversal of tree \n",
        "def printLevelOrder(root):\n",
        "  h = height(root)   #here we have 3 levels\n",
        "  for i in range(1, h+1):\n",
        "    printGivenLevel(root, i) \n",
        "\n",
        "\n",
        "# Print nodes at a given level \n",
        "def printGivenLevel(root , level): \n",
        "\tif root is None:\n",
        "\t\treturn\n",
        "\tif level == 1: \n",
        "\t\tprint(\"%d\" %(root.data)) \n",
        "\telif level > 1 : \n",
        "\t\tprintGivenLevel(root.left , level-1) \n",
        "\t\tprintGivenLevel(root.right , level-1) \n",
        "\n",
        "\n",
        "print(\"Level order traversal of binary tree is -\")\n",
        "printLevelOrder(roott)"
      ],
      "execution_count": 25,
      "outputs": [
        {
          "output_type": "stream",
          "text": [
            "Level order traversal of binary tree is -\n",
            "10\n",
            "20\n",
            "30\n",
            "40\n",
            "60\n"
          ],
          "name": "stdout"
        }
      ]
    },
    {
      "cell_type": "markdown",
      "metadata": {
        "id": "7mC0BvRpRZwm",
        "colab_type": "text"
      },
      "source": [
        "#METHOD 2 (Use Queue)"
      ]
    },
    {
      "cell_type": "markdown",
      "metadata": {
        "id": "J8Ahk6AxRxrS",
        "colab_type": "text"
      },
      "source": [
        "Queue is implemented using an array with maximum size of 500. We can implement queue as linked list also."
      ]
    },
    {
      "cell_type": "code",
      "metadata": {
        "id": "s3Z8hXqqJ3Cy",
        "colab_type": "code",
        "colab": {}
      },
      "source": [
        "# Python program to print level order traversal using Queue \n",
        "class Node: \n",
        "\t# A utility function to create a new node \n",
        "\tdef __init__(self ,key): \n",
        "\t\tself.data = key \n",
        "\t\tself.left = None\n",
        "\t\tself.right = None\n",
        "\n",
        "#Driver Program to test above function \n",
        "roott = Node(1) \n",
        "roott.left = Node(2) \n",
        "roott.right = Node(3) \n",
        "roott.left.left = Node(4) \n",
        "roott.left.right = Node(5) \n",
        "\n",
        "# Iterative Method to print the height of binary tree \n",
        "def printLevelOrder(root): \n",
        "\t# Base Case \n",
        "\tif root is None: \n",
        "\t\treturn\t\n",
        "\t# Create an empty queue for level order traversal (BFS)\n",
        "\tqueue = [] \n",
        "\t# Enqueue Root and initialize height \n",
        "\tqueue.append(root) \n",
        "\twhile(len(queue) > 0): \n",
        "\t\t# Print front of queue and remove it from queue \n",
        "\t\tprint(queue[0].data)\n",
        "\t\tnode = queue.pop(0) \n",
        "\t\t#Enqueue left child \n",
        "\t\tif node.left is not None: \n",
        "\t\t\tqueue.append(node.left) \n",
        "\t\t# Enqueue right child \n",
        "\t\tif node.right is not None: \n",
        "\t\t\tqueue.append(node.right) \n",
        "\n",
        "print \"Level Order Traversal of binary tree is -\"\n",
        "printLevelOrder(roott)"
      ],
      "execution_count": 0,
      "outputs": []
    },
    {
      "cell_type": "code",
      "metadata": {
        "id": "NyExuKmTJ3AL",
        "colab_type": "code",
        "colab": {}
      },
      "source": [
        ""
      ],
      "execution_count": 0,
      "outputs": []
    },
    {
      "cell_type": "code",
      "metadata": {
        "id": "dveXSLDiJ2-c",
        "colab_type": "code",
        "colab": {}
      },
      "source": [
        ""
      ],
      "execution_count": 0,
      "outputs": []
    },
    {
      "cell_type": "code",
      "metadata": {
        "id": "jmg8rhJ1J287",
        "colab_type": "code",
        "colab": {}
      },
      "source": [
        ""
      ],
      "execution_count": 0,
      "outputs": []
    },
    {
      "cell_type": "code",
      "metadata": {
        "id": "jQJBA7KaJ221",
        "colab_type": "code",
        "colab": {}
      },
      "source": [
        ""
      ],
      "execution_count": 0,
      "outputs": []
    },
    {
      "cell_type": "code",
      "metadata": {
        "id": "DrmJtBvEJ20G",
        "colab_type": "code",
        "colab": {}
      },
      "source": [
        ""
      ],
      "execution_count": 0,
      "outputs": []
    },
    {
      "cell_type": "code",
      "metadata": {
        "id": "pURZBOCyJ2yJ",
        "colab_type": "code",
        "colab": {}
      },
      "source": [
        ""
      ],
      "execution_count": 0,
      "outputs": []
    },
    {
      "cell_type": "code",
      "metadata": {
        "id": "SSY3Nts_J2w3",
        "colab_type": "code",
        "colab": {}
      },
      "source": [
        ""
      ],
      "execution_count": 0,
      "outputs": []
    },
    {
      "cell_type": "code",
      "metadata": {
        "id": "kQEBGd85J2pj",
        "colab_type": "code",
        "colab": {}
      },
      "source": [
        ""
      ],
      "execution_count": 0,
      "outputs": []
    },
    {
      "cell_type": "code",
      "metadata": {
        "id": "z_-Lu0sTJ2oH",
        "colab_type": "code",
        "colab": {}
      },
      "source": [
        ""
      ],
      "execution_count": 0,
      "outputs": []
    },
    {
      "cell_type": "code",
      "metadata": {
        "id": "gpVhWNGeJ2mK",
        "colab_type": "code",
        "colab": {}
      },
      "source": [
        ""
      ],
      "execution_count": 0,
      "outputs": []
    },
    {
      "cell_type": "code",
      "metadata": {
        "id": "GZPg9eapJ2kO",
        "colab_type": "code",
        "colab": {}
      },
      "source": [
        ""
      ],
      "execution_count": 0,
      "outputs": []
    },
    {
      "cell_type": "code",
      "metadata": {
        "id": "A2cTGwn8J2ig",
        "colab_type": "code",
        "colab": {}
      },
      "source": [
        ""
      ],
      "execution_count": 0,
      "outputs": []
    },
    {
      "cell_type": "code",
      "metadata": {
        "id": "XH-XNomUJ2gB",
        "colab_type": "code",
        "colab": {}
      },
      "source": [
        ""
      ],
      "execution_count": 0,
      "outputs": []
    }
  ]
}