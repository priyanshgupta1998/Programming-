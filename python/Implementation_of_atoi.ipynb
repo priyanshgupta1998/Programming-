{
  "nbformat": 4,
  "nbformat_minor": 0,
  "metadata": {
    "colab": {
      "name": "TensorFlow with GPU",
      "provenance": [],
      "collapsed_sections": [],
      "include_colab_link": true
    },
    "kernelspec": {
      "name": "python3",
      "display_name": "Python 3"
    },
    "accelerator": "GPU"
  },
  "cells": [
    {
      "cell_type": "markdown",
      "metadata": {
        "id": "view-in-github",
        "colab_type": "text"
      },
      "source": [
        "<a href=\"https://colab.research.google.com/github/priyanshgupta1998/Programming-/blob/master/python/Implementation_of_atoi.ipynb\" target=\"_parent\"><img src=\"https://colab.research.google.com/assets/colab-badge.svg\" alt=\"Open In Colab\"/></a>"
      ]
    },
    {
      "cell_type": "code",
      "metadata": {
        "id": "PfDPYupD2E0s",
        "colab_type": "code",
        "colab": {}
      },
      "source": [
        ""
      ],
      "execution_count": 0,
      "outputs": []
    },
    {
      "cell_type": "markdown",
      "metadata": {
        "id": "z6MTRx6X8v1s",
        "colab_type": "text"
      },
      "source": [
        "#Python program for implementation of atoi "
      ]
    },
    {
      "cell_type": "code",
      "metadata": {
        "id": "ARjKxqaV2E4_",
        "colab_type": "code",
        "colab": {
          "base_uri": "https://localhost:8080/",
          "height": 34
        },
        "outputId": "ac473910-835e-4f39-8a93-960657fe4a4f"
      },
      "source": [
        "# Python program for implementation of atoi \n",
        "\n",
        "# A simple atoi() function \n",
        "def myAtoi(string): \n",
        "\tres = 0\n",
        "\t# Iterate through all characters of input string and update result \n",
        "\tfor i in range(len(string)): \n",
        "\t\tres = res * 10 + (ord(string[i]) - ord('0')) \n",
        "\treturn res \n",
        "\n",
        "# Driver program \n",
        "string = \"89789\"\n",
        "print(myAtoi(string)) "
      ],
      "execution_count": 26,
      "outputs": [
        {
          "output_type": "stream",
          "text": [
            "89789\n"
          ],
          "name": "stdout"
        }
      ]
    },
    {
      "cell_type": "code",
      "metadata": {
        "id": "a9V18ifI2E_g",
        "colab_type": "code",
        "colab": {}
      },
      "source": [
        ""
      ],
      "execution_count": 0,
      "outputs": []
    },
    {
      "cell_type": "markdown",
      "metadata": {
        "id": "OrwyM6W4285r",
        "colab_type": "text"
      },
      "source": [
        "#for implementation of the negative numbers (this code is for both positive numbers and Negative Numbers)"
      ]
    },
    {
      "cell_type": "code",
      "metadata": {
        "id": "hFw0Ns1Q2FEU",
        "colab_type": "code",
        "colab": {
          "base_uri": "https://localhost:8080/",
          "height": 34
        },
        "outputId": "daa0eda3-ef1b-4ebd-b1eb-ff4db1e4b49c"
      },
      "source": [
        "# Python program for implementation of atoi \n",
        "# A simple atoi() function \n",
        "def myAtoi(string): \n",
        "\tres = 0\n",
        "\t# initialize sign as positive \n",
        "\tsign = 1\n",
        "\ti = 0\n",
        "\t# if number is negative then update sign \n",
        "\tif string[0] == '-': \n",
        "\t\tsign = -1\n",
        "\t\ti+= 1\n",
        "\t# Iterate through all characters of input string and update result \n",
        "\tfor j in range(i, len(string)): \n",
        "\t\tres = res * 10 + (ord(string[j]) - ord('0')) \n",
        "\treturn sign * res \n",
        "# Driver program \n",
        "string = \"-123\"\n",
        "print( myAtoi(string) )"
      ],
      "execution_count": 29,
      "outputs": [
        {
          "output_type": "stream",
          "text": [
            "-123\n"
          ],
          "name": "stdout"
        }
      ]
    },
    {
      "cell_type": "markdown",
      "metadata": {
        "id": "77TfmKt03_sD",
        "colab_type": "text"
      },
      "source": [
        "#Now implement for any kind of given string which can contain characters either"
      ]
    },
    {
      "cell_type": "code",
      "metadata": {
        "id": "f0Lp69UO2FJQ",
        "colab_type": "code",
        "colab": {
          "base_uri": "https://localhost:8080/",
          "height": 102
        },
        "outputId": "35c48ab9-9bf3-4f5f-e989-81c29a4796f6"
      },
      "source": [
        "# Python program for implementation of atoi \n",
        "# A utility function to check whether x is numeric \n",
        "def isNumericChar(x): \n",
        "\tif (ord(x) >= ord('0') and ord(x) <= ord('9')): \n",
        "\t\treturn True\n",
        "\treturn False\n",
        "\n",
        "# A simple atoi() function. If the given string contains any invalid character, then this function returns 0 \n",
        "def myAtoi(string): \n",
        "\tif len(string) == 0: \n",
        "\t\treturn 0\n",
        "\tres = 0\n",
        "\tsign = 1 \t# initialize sign as positive \n",
        "\ti = 0\n",
        "\t# if number is negative then update sign \n",
        "\tif string[0] == '-': \n",
        "\t\tsign = -1\n",
        "\t\ti+= 1\n",
        "\t# Iterate through all characters of input string and update result \n",
        "\tfor j in range(i, len(string)): \n",
        "\t\t# You may add some lines to write error message to error stream \n",
        "\t\tif (isNumericChar(string[j])== False): \n",
        "\t\t\treturn -1\n",
        "\t\tres = res * 10 + (ord(string[j]) - ord('0')) \n",
        "\treturn sign * res \n",
        "  \n",
        "# Driver program \n",
        "for string in [\"\" , \"-134\" , \"14a7\" , '-58k' , '98s5']:\n",
        "  print(myAtoi(string))"
      ],
      "execution_count": 40,
      "outputs": [
        {
          "output_type": "stream",
          "text": [
            "0\n",
            "-134\n",
            "-1\n",
            "-1\n",
            "-1\n"
          ],
          "name": "stdout"
        }
      ]
    },
    {
      "cell_type": "markdown",
      "metadata": {
        "id": "B-HSQjYZ7iKY",
        "colab_type": "text"
      },
      "source": [
        "#Method 2: Try , EXCEPT , ELSE "
      ]
    },
    {
      "cell_type": "code",
      "metadata": {
        "id": "GDvffWBE2FUH",
        "colab_type": "code",
        "colab": {
          "base_uri": "https://localhost:8080/",
          "height": 102
        },
        "outputId": "9d8cd397-b327-4308-c5be-c780bb8ba837"
      },
      "source": [
        "\n",
        "\n",
        "def atoi(string):\n",
        "    try :\n",
        "        int(string)\n",
        "    except:\n",
        "        return -1\n",
        "    else:\n",
        "        return int(string)\n",
        "\n",
        "# Driver program \n",
        "for string in [\"\" , \"-134\" , \"14a7\" , '-58k' , '98s5']:\n",
        "  print(atoi(string))"
      ],
      "execution_count": 41,
      "outputs": [
        {
          "output_type": "stream",
          "text": [
            "-1\n",
            "-134\n",
            "-1\n",
            "-1\n",
            "-1\n"
          ],
          "name": "stdout"
        }
      ]
    },
    {
      "cell_type": "code",
      "metadata": {
        "id": "2awoyPh_2FYz",
        "colab_type": "code",
        "colab": {}
      },
      "source": [
        ""
      ],
      "execution_count": 0,
      "outputs": []
    },
    {
      "cell_type": "code",
      "metadata": {
        "id": "nszfW2y-2FR7",
        "colab_type": "code",
        "colab": {
          "base_uri": "https://localhost:8080/",
          "height": 34
        },
        "outputId": "60a84a91-1bf6-47d1-b6f3-a5f0f534702c"
      },
      "source": [
        ""
      ],
      "execution_count": 37,
      "outputs": [
        {
          "output_type": "execute_result",
          "data": {
            "text/plain": [
              "48"
            ]
          },
          "metadata": {
            "tags": []
          },
          "execution_count": 37
        }
      ]
    },
    {
      "cell_type": "code",
      "metadata": {
        "id": "1kgGt7ip2FQT",
        "colab_type": "code",
        "colab": {}
      },
      "source": [
        ""
      ],
      "execution_count": 0,
      "outputs": []
    },
    {
      "cell_type": "code",
      "metadata": {
        "id": "oLDIDVtt2FOs",
        "colab_type": "code",
        "colab": {}
      },
      "source": [
        ""
      ],
      "execution_count": 0,
      "outputs": []
    },
    {
      "cell_type": "code",
      "metadata": {
        "id": "jP9X6J2H2FDH",
        "colab_type": "code",
        "colab": {}
      },
      "source": [
        ""
      ],
      "execution_count": 0,
      "outputs": []
    },
    {
      "cell_type": "code",
      "metadata": {
        "id": "lU0m7rux2E8q",
        "colab_type": "code",
        "colab": {}
      },
      "source": [
        ""
      ],
      "execution_count": 0,
      "outputs": []
    }
  ]
}