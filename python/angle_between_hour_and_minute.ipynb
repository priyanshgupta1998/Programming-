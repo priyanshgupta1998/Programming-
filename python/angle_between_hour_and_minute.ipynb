{
  "nbformat": 4,
  "nbformat_minor": 0,
  "metadata": {
    "colab": {
      "name": "TensorFlow with GPU",
      "provenance": [],
      "collapsed_sections": [],
      "include_colab_link": true
    },
    "kernelspec": {
      "name": "python3",
      "display_name": "Python 3"
    },
    "accelerator": "GPU"
  },
  "cells": [
    {
      "cell_type": "markdown",
      "metadata": {
        "id": "view-in-github",
        "colab_type": "text"
      },
      "source": [
        "<a href=\"https://colab.research.google.com/github/priyanshgupta1998/Programming-/blob/master/python/angle_between_hour_and_minute.ipynb\" target=\"_parent\"><img src=\"https://colab.research.google.com/assets/colab-badge.svg\" alt=\"Open In Colab\"/></a>"
      ]
    },
    {
      "cell_type": "code",
      "metadata": {
        "id": "pkm1cwvT9G1O",
        "colab_type": "code",
        "colab": {}
      },
      "source": [
        ""
      ],
      "execution_count": 0,
      "outputs": []
    },
    {
      "cell_type": "code",
      "metadata": {
        "id": "2X8fQb6p9G62",
        "colab_type": "code",
        "colab": {}
      },
      "source": [
        ""
      ],
      "execution_count": 0,
      "outputs": []
    },
    {
      "cell_type": "markdown",
      "metadata": {
        "id": "esvtHPlX_EBm",
        "colab_type": "text"
      },
      "source": [
        "\n",
        "#Calculate the angle between hour hand and minute hand\n",
        "The idea is to take 12:00 (h = 12, m = 0) as a reference. Following are detailed steps.\n",
        "\n",
        "\n",
        "\n",
        "1) Calculate the angle made by hour hand with respect to 12:00 in h hours and m minutes.\n",
        "2) Calculate the angle made by minute hand with respect to 12:00 in h hours and m minutes.\n",
        "3) The difference between two angles is the angle between two hands.\n",
        "\n",
        "How to calculate the two angles with respect to 12:00?\n",
        "The minute hand moves 360 degree in 60 minute(or 6 degree in one minute) and hour hand moves 360 degree in 12 hours(or 0.5 degree in 1 minute). In h hours and m minutes, the minute hand would move (h*60 + m)*6 and hour hand would move (h*60 + m)*0.5."
      ]
    },
    {
      "cell_type": "markdown",
      "metadata": {
        "id": "b7pJL1WM_lGl",
        "colab_type": "text"
      },
      "source": [
        "In 360' the minute hand moves 60 times that's why each rotation has 6 degree.   \n",
        "In 360\"  the Hand movew only 12 * 60 times = 720 times( 60 istaken because between any two 2 hours the hand moves 60 times and their are 12 numbers(hours)) that's why each rotation  in hand has 360/720 = 0.5 degree"
      ]
    },
    {
      "cell_type": "code",
      "metadata": {
        "id": "o1qyTq5O9HMD",
        "colab_type": "code",
        "colab": {}
      },
      "source": [
        ""
      ],
      "execution_count": 0,
      "outputs": []
    },
    {
      "cell_type": "code",
      "metadata": {
        "id": "FK8nETTz9HUa",
        "colab_type": "code",
        "colab": {
          "base_uri": "https://localhost:8080/",
          "height": 68
        },
        "outputId": "9bc70ba1-dbe4-4703-c87e-23e120f81827"
      },
      "source": [
        "# Python program to find angle \n",
        "# between hour and minute hands \n",
        "# Function to Calculate angle b/w  hour hand and minute hand \n",
        "import math \n",
        "def calcAngle(h,m):\n",
        "\t\t# validate the input \n",
        "\t\tif (h < 0 or m < 0 or h > 12 or m > 60): \n",
        "\t\t\tprint('Wrong input')\n",
        "\t\tif (h == 12): \n",
        "\t\t\th = 0\n",
        "\t\tif (m == 60): \n",
        "\t\t\tm = 0\n",
        "\t\t# Calculate the angles moved by hour and minute hands with reference to 12:00 \n",
        "\t\thour_angle = 0.5 * (h * 60 + m) \n",
        "\t\tminute_angle = 6 * m \n",
        "\t\t# Find the difference between two angles \n",
        "\t\tangle = abs(hour_angle - minute_angle) \n",
        "\t\t# Return the smaller angle of two possible angles \n",
        "\t\tangle = min(360 - angle, angle) \n",
        "\t\treturn math.floor(angle)\n",
        "\n",
        "# Driver program \n",
        "for i in [[9,60] , [3,30] , [12 , 30]]:\n",
        "  h,m = i\n",
        "  print('Angle ', calcAngle(h,m)) \n"
      ],
      "execution_count": 46,
      "outputs": [
        {
          "output_type": "stream",
          "text": [
            "Angle  90\n",
            "Angle  75\n",
            "Angle  165\n"
          ],
          "name": "stdout"
        }
      ]
    },
    {
      "cell_type": "code",
      "metadata": {
        "id": "rJOf6NfN_JgD",
        "colab_type": "code",
        "colab": {
          "base_uri": "https://localhost:8080/",
          "height": 34
        },
        "outputId": "0fc38165-dd30-439d-b9dc-32039d6ff114"
      },
      "source": [
        ""
      ],
      "execution_count": 47,
      "outputs": [
        {
          "output_type": "execute_result",
          "data": {
            "text/plain": [
              "True"
            ]
          },
          "metadata": {
            "tags": []
          },
          "execution_count": 47
        }
      ]
    },
    {
      "cell_type": "code",
      "metadata": {
        "id": "WogUsgiH_JdP",
        "colab_type": "code",
        "colab": {}
      },
      "source": [
        ""
      ],
      "execution_count": 0,
      "outputs": []
    },
    {
      "cell_type": "code",
      "metadata": {
        "id": "osSOIrU0_JZO",
        "colab_type": "code",
        "colab": {}
      },
      "source": [
        ""
      ],
      "execution_count": 0,
      "outputs": []
    },
    {
      "cell_type": "code",
      "metadata": {
        "id": "-n3S5VeN_JVy",
        "colab_type": "code",
        "colab": {}
      },
      "source": [
        ""
      ],
      "execution_count": 0,
      "outputs": []
    },
    {
      "cell_type": "code",
      "metadata": {
        "id": "0Zurpdqj_JTI",
        "colab_type": "code",
        "colab": {}
      },
      "source": [
        ""
      ],
      "execution_count": 0,
      "outputs": []
    },
    {
      "cell_type": "code",
      "metadata": {
        "id": "0Xf219Mi_JRB",
        "colab_type": "code",
        "colab": {}
      },
      "source": [
        ""
      ],
      "execution_count": 0,
      "outputs": []
    },
    {
      "cell_type": "code",
      "metadata": {
        "id": "hRz0YxF-_JOl",
        "colab_type": "code",
        "colab": {}
      },
      "source": [
        ""
      ],
      "execution_count": 0,
      "outputs": []
    },
    {
      "cell_type": "code",
      "metadata": {
        "id": "CqHtV5RR9HS7",
        "colab_type": "code",
        "colab": {}
      },
      "source": [
        ""
      ],
      "execution_count": 0,
      "outputs": []
    },
    {
      "cell_type": "code",
      "metadata": {
        "id": "cwWkJKcv9HRH",
        "colab_type": "code",
        "colab": {}
      },
      "source": [
        ""
      ],
      "execution_count": 0,
      "outputs": []
    },
    {
      "cell_type": "code",
      "metadata": {
        "id": "T33h8dzF9HKW",
        "colab_type": "code",
        "colab": {}
      },
      "source": [
        ""
      ],
      "execution_count": 0,
      "outputs": []
    },
    {
      "cell_type": "code",
      "metadata": {
        "id": "pHbAQsl89HGl",
        "colab_type": "code",
        "colab": {}
      },
      "source": [
        ""
      ],
      "execution_count": 0,
      "outputs": []
    },
    {
      "cell_type": "code",
      "metadata": {
        "id": "FyCBKylI9HEy",
        "colab_type": "code",
        "colab": {}
      },
      "source": [
        ""
      ],
      "execution_count": 0,
      "outputs": []
    },
    {
      "cell_type": "code",
      "metadata": {
        "id": "vwa9S6zg9HDO",
        "colab_type": "code",
        "colab": {}
      },
      "source": [
        ""
      ],
      "execution_count": 0,
      "outputs": []
    },
    {
      "cell_type": "code",
      "metadata": {
        "id": "_HSwH7bv9HBX",
        "colab_type": "code",
        "colab": {}
      },
      "source": [
        ""
      ],
      "execution_count": 0,
      "outputs": []
    },
    {
      "cell_type": "code",
      "metadata": {
        "id": "pL0bYaY39G_m",
        "colab_type": "code",
        "colab": {}
      },
      "source": [
        ""
      ],
      "execution_count": 0,
      "outputs": []
    },
    {
      "cell_type": "code",
      "metadata": {
        "id": "3HqB4DIT9G4o",
        "colab_type": "code",
        "colab": {}
      },
      "source": [
        ""
      ],
      "execution_count": 0,
      "outputs": []
    }
  ]
}