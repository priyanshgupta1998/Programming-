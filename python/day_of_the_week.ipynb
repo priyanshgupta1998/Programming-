{
  "nbformat": 4,
  "nbformat_minor": 0,
  "metadata": {
    "colab": {
      "name": "TensorFlow with GPU",
      "provenance": [],
      "collapsed_sections": [],
      "include_colab_link": true
    },
    "kernelspec": {
      "name": "python3",
      "display_name": "Python 3"
    },
    "accelerator": "GPU"
  },
  "cells": [
    {
      "cell_type": "markdown",
      "metadata": {
        "id": "view-in-github",
        "colab_type": "text"
      },
      "source": [
        "<a href=\"https://colab.research.google.com/github/priyanshgupta1998/Programming-/blob/master/python/day_of_the_week.ipynb\" target=\"_parent\"><img src=\"https://colab.research.google.com/assets/colab-badge.svg\" alt=\"Open In Colab\"/></a>"
      ]
    },
    {
      "cell_type": "code",
      "metadata": {
        "id": "pkm1cwvT9G1O",
        "colab_type": "code",
        "colab": {}
      },
      "source": [
        ""
      ],
      "execution_count": 0,
      "outputs": []
    },
    {
      "cell_type": "markdown",
      "metadata": {
        "id": "v0dgWTLpFKwH",
        "colab_type": "text"
      },
      "source": [
        "#Write a program that calculates the day of the week for any particular date in the past or future."
      ]
    },
    {
      "cell_type": "code",
      "metadata": {
        "id": "PwqaySh9F7rW",
        "colab_type": "code",
        "colab": {}
      },
      "source": [
        ""
      ],
      "execution_count": 0,
      "outputs": []
    },
    {
      "cell_type": "markdown",
      "metadata": {
        "id": "as59LqmSF8cU",
        "colab_type": "text"
      },
      "source": [
        "The following function returns 0 for Sunday, 1 for Monday, etc."
      ]
    },
    {
      "cell_type": "code",
      "metadata": {
        "id": "2X8fQb6p9G62",
        "colab_type": "code",
        "colab": {
          "base_uri": "https://localhost:8080/",
          "height": 51
        },
        "outputId": "58c9d537-f823-4083-b15d-819b3cc3e747"
      },
      "source": [
        "# Python3 program to find day of a given date \n",
        "liss = [\"Sunday\" , \"Monday\", \"Tuesday\", \"Wednesday\", \"Thursday\", \"Friday\", \"Saturday\"]\n",
        "dic  ={}\n",
        "for i in liss:\n",
        "  if i not in dic:\n",
        "    dic[liss.index(i)] = i\n",
        "# print(dic)\n",
        "\n",
        "\n",
        "\n",
        "def dayofweek(d, m, y): \n",
        "\tt = [ 0, 3, 2, 5, 0, 3, \n",
        "      5, 1, 4, 6, 2, 4 ] \n",
        "\ty -= m < 3  # ( just comparison ifm<3 ==0 else m<3 ==1)\n",
        "\treturn (( y + int(y / 4) - int(y / 100) + \n",
        "          int(y / 400) + t[m - 1] + d) % 7) \n",
        "\n",
        "# Driver Code \n",
        "for i in [[28,12,1995] , [30,8,2010]]:\n",
        "  d,m,y = i\n",
        "  day = dayofweek(d,m,y) \n",
        "  # print(day)\n",
        "  print(dic[day])"
      ],
      "execution_count": 54,
      "outputs": [
        {
          "output_type": "stream",
          "text": [
            "Thursday\n",
            "Monday\n"
          ],
          "name": "stdout"
        }
      ]
    },
    {
      "cell_type": "code",
      "metadata": {
        "id": "o1qyTq5O9HMD",
        "colab_type": "code",
        "colab": {}
      },
      "source": [
        ""
      ],
      "execution_count": 0,
      "outputs": []
    },
    {
      "cell_type": "markdown",
      "metadata": {
        "id": "qHab-jpsMK4y",
        "colab_type": "text"
      },
      "source": [
        "#Mehtod2: using inbuilt library"
      ]
    },
    {
      "cell_type": "code",
      "metadata": {
        "id": "WogUsgiH_JdP",
        "colab_type": "code",
        "colab": {
          "base_uri": "https://localhost:8080/",
          "height": 51
        },
        "outputId": "413ba89d-4748-450a-ee68-82f0bc1a5c9c"
      },
      "source": [
        " import calendar\n",
        "\n",
        "for i in [[28,12,1995] , [30,8,2010]]:\n",
        "  d,m,y = i\n",
        "  s=[\"Monday\",\"Tuesday\",\"Wednesday\",\"Thursday\",\"Friday\",\"Saturday\",\"Sunday\"]\n",
        "  a=calendar.weekday(y,m,d)\n",
        "  print(s[a])"
      ],
      "execution_count": 61,
      "outputs": [
        {
          "output_type": "stream",
          "text": [
            "Thursday\n",
            "Monday\n"
          ],
          "name": "stdout"
        }
      ]
    },
    {
      "cell_type": "code",
      "metadata": {
        "id": "osSOIrU0_JZO",
        "colab_type": "code",
        "colab": {
          "base_uri": "https://localhost:8080/",
          "height": 51
        },
        "outputId": "d8f6fe36-d2d8-4eec-92fc-97b0e4fce14d"
      },
      "source": [
        "from datetime import date\n",
        "for i in [[28,12,1995] , [30,8,2010]]:\n",
        "  d,m,y = i\n",
        "  print(date(y,m,d).strftime(\"%A\")) "
      ],
      "execution_count": 60,
      "outputs": [
        {
          "output_type": "stream",
          "text": [
            "Thursday\n",
            "Monday\n"
          ],
          "name": "stdout"
        }
      ]
    },
    {
      "cell_type": "code",
      "metadata": {
        "id": "-n3S5VeN_JVy",
        "colab_type": "code",
        "colab": {}
      },
      "source": [
        ""
      ],
      "execution_count": 0,
      "outputs": []
    },
    {
      "cell_type": "code",
      "metadata": {
        "id": "pL0bYaY39G_m",
        "colab_type": "code",
        "colab": {}
      },
      "source": [
        ""
      ],
      "execution_count": 0,
      "outputs": []
    },
    {
      "cell_type": "code",
      "metadata": {
        "id": "3HqB4DIT9G4o",
        "colab_type": "code",
        "colab": {}
      },
      "source": [
        ""
      ],
      "execution_count": 0,
      "outputs": []
    }
  ]
}