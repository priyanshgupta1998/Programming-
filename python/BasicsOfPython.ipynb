{
  "nbformat": 4,
  "nbformat_minor": 0,
  "metadata": {
    "colab": {
      "name": "Welcome To Colaboratory",
      "version": "0.3.2",
      "provenance": [],
      "collapsed_sections": []
    },
    "kernelspec": {
      "name": "python3",
      "display_name": "Python 3"
    },
    "accelerator": "GPU"
  },
  "cells": [
    {
      "cell_type": "markdown",
      "metadata": {
        "id": "tJBqsEEPANep",
        "colab_type": "text"
      },
      "source": [
        "## Python supports automatic garbage collection"
      ]
    },
    {
      "cell_type": "code",
      "metadata": {
        "id": "XgsGH43Yw7Xv",
        "colab_type": "code",
        "colab": {}
      },
      "source": [
        "import re\n",
        "sentence = 'horses and dogs are fast'\n"
      ],
      "execution_count": 0,
      "outputs": []
    },
    {
      "cell_type": "code",
      "metadata": {
        "id": "QOBNXb9xw7fg",
        "colab_type": "code",
        "colab": {
          "base_uri": "https://localhost:8080/",
          "height": 34
        },
        "outputId": "897a33e0-3db0-46ac-afe3-ef7b11d7ab6a"
      },
      "source": [
        "regex = re.compile('(?P<animal>\\w+) (?P<verb>\\w+) (?P<adjective>\\w+)')\n",
        "regex"
      ],
      "execution_count": 7,
      "outputs": [
        {
          "output_type": "execute_result",
          "data": {
            "text/plain": [
              "re.compile(r'(?P<animal>\\w+) (?P<verb>\\w+) (?P<adjective>\\w+)', re.UNICODE)"
            ]
          },
          "metadata": {
            "tags": []
          },
          "execution_count": 7
        }
      ]
    },
    {
      "cell_type": "code",
      "metadata": {
        "id": "c7OF0coNw7i6",
        "colab_type": "code",
        "colab": {
          "base_uri": "https://localhost:8080/",
          "height": 34
        },
        "outputId": "2b1166bc-6977-48ba-c139-40ab1500d3bf"
      },
      "source": [
        "matched = re.search(regex, sentence)\n",
        "matched"
      ],
      "execution_count": 8,
      "outputs": [
        {
          "output_type": "execute_result",
          "data": {
            "text/plain": [
              "<_sre.SRE_Match object; span=(0, 15), match='horses and dogs'>"
            ]
          },
          "metadata": {
            "tags": []
          },
          "execution_count": 8
        }
      ]
    },
    {
      "cell_type": "code",
      "metadata": {
        "id": "hbeLVwPSw7sE",
        "colab_type": "code",
        "colab": {
          "base_uri": "https://localhost:8080/",
          "height": 34
        },
        "outputId": "622f82d5-77e1-44d1-add9-80007dbaf0bd"
      },
      "source": [
        "print(matched.groupdict())"
      ],
      "execution_count": 9,
      "outputs": [
        {
          "output_type": "stream",
          "text": [
            "{'animal': 'horses', 'verb': 'and', 'adjective': 'dogs'}\n"
          ],
          "name": "stdout"
        }
      ]
    },
    {
      "cell_type": "markdown",
      "metadata": {
        "id": "7Q7_Anj3yHQZ",
        "colab_type": "text"
      },
      "source": [
        "\n",
        "\n",
        ">>> >> >>![alt text](https://mw.church/wp-content/uploads/2018/09/next-logo.png)"
      ]
    },
    {
      "cell_type": "code",
      "metadata": {
        "id": "1IDCLJmhw7qz",
        "colab_type": "code",
        "colab": {
          "base_uri": "https://localhost:8080/",
          "height": 34
        },
        "outputId": "2bebbc80-d92a-4050-8f4f-58c745dd4b02"
      },
      "source": [
        "import re\n",
        "string = 'Javaaascript'\n",
        "comp = re.compile('[Jj]ava')   # create a pattern to get the subset from the original string\n",
        "re_obj = comp.match(string)\n",
        "if re_obj:\n",
        "  print('pattern found!')\n",
        "else:\n",
        "  print(\"XXXX\")"
      ],
      "execution_count": 10,
      "outputs": [
        {
          "output_type": "stream",
          "text": [
            "pattern found!\n"
          ],
          "name": "stdout"
        }
      ]
    },
    {
      "cell_type": "code",
      "metadata": {
        "id": "7s9eC62Fw7pl",
        "colab_type": "code",
        "colab": {
          "base_uri": "https://localhost:8080/",
          "height": 34
        },
        "outputId": "04310f29-8fe0-4a53-b8a9-85a725ed6c23"
      },
      "source": [
        "matched = re.search(comp, string)\n",
        "matched"
      ],
      "execution_count": 13,
      "outputs": [
        {
          "output_type": "execute_result",
          "data": {
            "text/plain": [
              "<_sre.SRE_Match object; span=(0, 4), match='Java'>"
            ]
          },
          "metadata": {
            "tags": []
          },
          "execution_count": 13
        }
      ]
    },
    {
      "cell_type": "code",
      "metadata": {
        "id": "PLFojxa6w7nr",
        "colab_type": "code",
        "colab": {}
      },
      "source": [
        "import re\n",
        "string = 'Javaaascript'\n",
        "comp = re.compile('[Aac]ascri')   # create a pattern to get the subset from the original string\n",
        "re.search(comp, string)"
      ],
      "execution_count": 0,
      "outputs": []
    },
    {
      "cell_type": "markdown",
      "metadata": {
        "id": "HBvuPmnA1kIa",
        "colab_type": "text"
      },
      "source": [
        "\n",
        "\n",
        ">>> >> >> ![alt text](https://mw.church/wp-content/uploads/2018/09/next-logo.png)"
      ]
    },
    {
      "cell_type": "code",
      "metadata": {
        "id": "Clo_fhR0w7l2",
        "colab_type": "code",
        "colab": {
          "base_uri": "https://localhost:8080/",
          "height": 51
        },
        "outputId": "b568eaef-b1ea-463e-ecaa-db46e39dc62d"
      },
      "source": [
        "list1 = [3, 4, 5, 20, 5, 25, 1, 3]\n",
        "print(list1.pop(1))   # passt the index inside the pop() function \n",
        "list1"
      ],
      "execution_count": 20,
      "outputs": [
        {
          "output_type": "stream",
          "text": [
            "4\n"
          ],
          "name": "stdout"
        },
        {
          "output_type": "execute_result",
          "data": {
            "text/plain": [
              "[3, 5, 20, 5, 25, 1, 3]"
            ]
          },
          "metadata": {
            "tags": []
          },
          "execution_count": 20
        }
      ]
    },
    {
      "cell_type": "markdown",
      "metadata": {
        "id": "26h4jnNQ2NGF",
        "colab_type": "text"
      },
      "source": [
        "\n",
        "\n",
        ">>> >> >> ![alt text](https://mw.church/wp-content/uploads/2018/09/next-logo.png)"
      ]
    },
    {
      "cell_type": "code",
      "metadata": {
        "id": "pdr4X00Uw7eC",
        "colab_type": "code",
        "colab": {
          "base_uri": "https://localhost:8080/",
          "height": 34
        },
        "outputId": "dccbe06e-6288-4ed7-fc3c-4981657317c7"
      },
      "source": [
        "import time\n",
        "time.time()  # return the current time in milliseconds since midnight, January 1, 1970 GMT (the Unix time)"
      ],
      "execution_count": 22,
      "outputs": [
        {
          "output_type": "execute_result",
          "data": {
            "text/plain": [
              "1568214090.635749"
            ]
          },
          "metadata": {
            "tags": []
          },
          "execution_count": 22
        }
      ]
    },
    {
      "cell_type": "markdown",
      "metadata": {
        "id": "mdqoUji04ZTA",
        "colab_type": "text"
      },
      "source": [
        "\n",
        "\n",
        ">>> >> >> ![alt text](https://mw.church/wp-content/uploads/2018/09/next-logo.png)"
      ]
    },
    {
      "cell_type": "code",
      "metadata": {
        "id": "qRTaeqWX4XW9",
        "colab_type": "code",
        "colab": {
          "base_uri": "https://localhost:8080/",
          "height": 34
        },
        "outputId": "2a7f8319-0c36-4a29-9a8b-334cc9c9e9ba"
      },
      "source": [
        "'{}'.format(1.0 / 3)"
      ],
      "execution_count": 24,
      "outputs": [
        {
          "output_type": "execute_result",
          "data": {
            "text/plain": [
              "'0.3333333333333333'"
            ]
          },
          "metadata": {
            "tags": []
          },
          "execution_count": 24
        }
      ]
    },
    {
      "cell_type": "code",
      "metadata": {
        "id": "3iJWFzJR5EjL",
        "colab_type": "code",
        "colab": {
          "base_uri": "https://localhost:8080/",
          "height": 34
        },
        "outputId": "d517268f-b8ce-4275-9015-711b33b74eb7"
      },
      "source": [
        "'{0:0%}'.format(1.0 / 3)"
      ],
      "execution_count": 35,
      "outputs": [
        {
          "output_type": "execute_result",
          "data": {
            "text/plain": [
              "'33.333333%'"
            ]
          },
          "metadata": {
            "tags": []
          },
          "execution_count": 35
        }
      ]
    },
    {
      "cell_type": "code",
      "metadata": {
        "id": "iuhDnZ-tw7cn",
        "colab_type": "code",
        "colab": {
          "base_uri": "https://localhost:8080/",
          "height": 34
        },
        "outputId": "322a14a1-e949-4a30-af30-a9f5ee559726"
      },
      "source": [
        "'{0:1%}'.format(1.0 / 3)"
      ],
      "execution_count": 26,
      "outputs": [
        {
          "output_type": "execute_result",
          "data": {
            "text/plain": [
              "'33.333333%'"
            ]
          },
          "metadata": {
            "tags": []
          },
          "execution_count": 26
        }
      ]
    },
    {
      "cell_type": "code",
      "metadata": {
        "id": "mdJZNwSH2bNC",
        "colab_type": "code",
        "colab": {
          "base_uri": "https://localhost:8080/",
          "height": 34
        },
        "outputId": "d58377fd-4d00-4275-b932-abf028730170"
      },
      "source": [
        "'{0:4%}'.format(1.0 / 3)"
      ],
      "execution_count": 28,
      "outputs": [
        {
          "output_type": "execute_result",
          "data": {
            "text/plain": [
              "'33.333333%'"
            ]
          },
          "metadata": {
            "tags": []
          },
          "execution_count": 28
        }
      ]
    },
    {
      "cell_type": "code",
      "metadata": {
        "id": "o83a4rGJ4y7I",
        "colab_type": "code",
        "colab": {
          "base_uri": "https://localhost:8080/",
          "height": 34
        },
        "outputId": "04e0dba0-c49d-4f10-f054-b629baf48e11"
      },
      "source": [
        "'{0:-1%}'.format(1.0 / 3)"
      ],
      "execution_count": 32,
      "outputs": [
        {
          "output_type": "execute_result",
          "data": {
            "text/plain": [
              "'33.333333%'"
            ]
          },
          "metadata": {
            "tags": []
          },
          "execution_count": 32
        }
      ]
    },
    {
      "cell_type": "code",
      "metadata": {
        "id": "cknhxtpy49rE",
        "colab_type": "code",
        "colab": {
          "base_uri": "https://localhost:8080/",
          "height": 34
        },
        "outputId": "41512a2c-0b6c-49da-9a77-3c872b302ae3"
      },
      "source": [
        "'{0:-2%}'.format(1.0 / 3)"
      ],
      "execution_count": 33,
      "outputs": [
        {
          "output_type": "execute_result",
          "data": {
            "text/plain": [
              "'33.333333%'"
            ]
          },
          "metadata": {
            "tags": []
          },
          "execution_count": 33
        }
      ]
    },
    {
      "cell_type": "code",
      "metadata": {
        "id": "87wIwOXs2bQ3",
        "colab_type": "code",
        "colab": {
          "base_uri": "https://localhost:8080/",
          "height": 34
        },
        "outputId": "9ca7bc64-03ad-4c20-9852-7ac2b05f4b61"
      },
      "source": [
        "'{0:-3%}'.format(1.0 / 3)"
      ],
      "execution_count": 34,
      "outputs": [
        {
          "output_type": "execute_result",
          "data": {
            "text/plain": [
              "'33.333333%'"
            ]
          },
          "metadata": {
            "tags": []
          },
          "execution_count": 34
        }
      ]
    },
    {
      "cell_type": "markdown",
      "metadata": {
        "id": "bUiSRJNx5vs1",
        "colab_type": "text"
      },
      "source": [
        "\n",
        "\n",
        ">>> >> >> ![alt text](https://mw.church/wp-content/uploads/2018/09/next-logo.png)\n",
        "#For-else loop in python"
      ]
    },
    {
      "cell_type": "code",
      "metadata": {
        "id": "jZ0TQHwl5s9-",
        "colab_type": "code",
        "colab": {
          "base_uri": "https://localhost:8080/",
          "height": 85
        },
        "outputId": "92555c41-d3b3-4cb9-b14d-a2bf12f3cbfb"
      },
      "source": [
        "for i in range(1, 4): \n",
        "    print(i) \n",
        "else:  # Executed because no break in for \n",
        "    print(\"No Break\") "
      ],
      "execution_count": 38,
      "outputs": [
        {
          "output_type": "stream",
          "text": [
            "1\n",
            "2\n",
            "3\n",
            "No Break\n"
          ],
          "name": "stdout"
        }
      ]
    },
    {
      "cell_type": "code",
      "metadata": {
        "id": "13aAPQ0P6HN-",
        "colab_type": "code",
        "colab": {
          "base_uri": "https://localhost:8080/",
          "height": 68
        },
        "outputId": "529b3e06-7b59-4ea3-8725-8904d675d3c4"
      },
      "source": [
        "for i in range(1, 4): \n",
        "    print(i) \n",
        "    if(i==3):\n",
        "      break\n",
        "else:  # Not Executed because   break in for \n",
        "    print(\"No Break\") "
      ],
      "execution_count": 39,
      "outputs": [
        {
          "output_type": "stream",
          "text": [
            "1\n",
            "2\n",
            "3\n"
          ],
          "name": "stdout"
        }
      ]
    },
    {
      "cell_type": "code",
      "metadata": {
        "id": "Tt2pQM6764ZZ",
        "colab_type": "code",
        "colab": {
          "base_uri": "https://localhost:8080/",
          "height": 102
        },
        "outputId": "37c48986-8c5b-4ee6-c037-3b3021550575"
      },
      "source": [
        "def contains_even_number(l): \n",
        "    for ele in l: \n",
        "        if ele % 2 == 0: \n",
        "            print (\"list contains an even number\") \n",
        "            break\n",
        "  \n",
        "    # This else executes only if break is NEVER \n",
        "    # reached and loop terminated after all iterations. \n",
        "    else:      \n",
        "        print (\"list does not contain an even number\") \n",
        "  \n",
        "# Driver code \n",
        "print (\"For List 1:\") \n",
        "contains_even_number([1, 9, 8]) \n",
        "print (\" \\nFor List 2:\") \n",
        "contains_even_number([1, 3, 5]) "
      ],
      "execution_count": 43,
      "outputs": [
        {
          "output_type": "stream",
          "text": [
            "For List 1:\n",
            "list contains an even number\n",
            " \n",
            "For List 2:\n",
            "list does not contain an even number\n"
          ],
          "name": "stdout"
        }
      ]
    },
    {
      "cell_type": "markdown",
      "metadata": {
        "id": "fkmu_adg6GBz",
        "colab_type": "text"
      },
      "source": [
        "\n",
        "\n",
        ">>> >> >> ![alt text](https://mw.church/wp-content/uploads/2018/09/next-logo.png)"
      ]
    },
    {
      "cell_type": "code",
      "metadata": {
        "id": "RaScDrMT6bzR",
        "colab_type": "code",
        "colab": {
          "base_uri": "https://localhost:8080/",
          "height": 119
        },
        "outputId": "504b9b9a-2103-4945-e062-aaa27b5e0ea8"
      },
      "source": [
        "i = 0\n",
        "while i < 5:\n",
        "    print(i)\n",
        "    i += 1\n",
        "else:\n",
        "    print(0)"
      ],
      "execution_count": 42,
      "outputs": [
        {
          "output_type": "stream",
          "text": [
            "0\n",
            "1\n",
            "2\n",
            "3\n",
            "4\n",
            "0\n"
          ],
          "name": "stdout"
        }
      ]
    },
    {
      "cell_type": "code",
      "metadata": {
        "id": "Au2WKm2b2bVN",
        "colab_type": "code",
        "colab": {
          "base_uri": "https://localhost:8080/",
          "height": 68
        },
        "outputId": "11211dd1-a8c4-42ea-d86f-255afcff1a37"
      },
      "source": [
        "i = 0\n",
        "while i < 5:\n",
        "    print(i)\n",
        "    i += 1\n",
        "    if i == 3:\n",
        "        break\n",
        "else:\n",
        "    print(0)"
      ],
      "execution_count": 37,
      "outputs": [
        {
          "output_type": "stream",
          "text": [
            "0\n",
            "1\n",
            "2\n"
          ],
          "name": "stdout"
        }
      ]
    },
    {
      "cell_type": "markdown",
      "metadata": {
        "id": "TEHKYm2q79pc",
        "colab_type": "text"
      },
      "source": [
        "\n",
        "\n",
        ">>> >> >> ![alt text](https://mw.church/wp-content/uploads/2018/09/next-logo.png)"
      ]
    },
    {
      "cell_type": "code",
      "metadata": {
        "id": "qrUFGe4V2bLd",
        "colab_type": "code",
        "colab": {
          "base_uri": "https://localhost:8080/",
          "height": 34
        },
        "outputId": "c610e524-d2eb-4bb9-815d-8e8579fdbe9c"
      },
      "source": [
        "'cd'.partition('cd')"
      ],
      "execution_count": 44,
      "outputs": [
        {
          "output_type": "execute_result",
          "data": {
            "text/plain": [
              "('', 'cd', '')"
            ]
          },
          "metadata": {
            "tags": []
          },
          "execution_count": 44
        }
      ]
    },
    {
      "cell_type": "code",
      "metadata": {
        "id": "QBFAaNiO7g_V",
        "colab_type": "code",
        "colab": {
          "base_uri": "https://localhost:8080/",
          "height": 34
        },
        "outputId": "ca67e8cd-a577-42e1-b2c6-194ed68be88d"
      },
      "source": [
        "'cd'.partition('d')"
      ],
      "execution_count": 45,
      "outputs": [
        {
          "output_type": "execute_result",
          "data": {
            "text/plain": [
              "('c', 'd', '')"
            ]
          },
          "metadata": {
            "tags": []
          },
          "execution_count": 45
        }
      ]
    },
    {
      "cell_type": "code",
      "metadata": {
        "id": "FzyZGjNG7kgw",
        "colab_type": "code",
        "colab": {
          "base_uri": "https://localhost:8080/",
          "height": 34
        },
        "outputId": "cb261c01-8b5d-4abe-a735-e5eda7ecd6f1"
      },
      "source": [
        "'cd'.partition('c')"
      ],
      "execution_count": 46,
      "outputs": [
        {
          "output_type": "execute_result",
          "data": {
            "text/plain": [
              "('', 'c', 'd')"
            ]
          },
          "metadata": {
            "tags": []
          },
          "execution_count": 46
        }
      ]
    },
    {
      "cell_type": "code",
      "metadata": {
        "id": "41x0yKnm7vwm",
        "colab_type": "code",
        "colab": {
          "base_uri": "https://localhost:8080/",
          "height": 34
        },
        "outputId": "5b37d84e-3835-4981-ac86-a2a9c1c491a7"
      },
      "source": [
        "'cd'.partition('cld')"
      ],
      "execution_count": 47,
      "outputs": [
        {
          "output_type": "execute_result",
          "data": {
            "text/plain": [
              "('cd', '', '')"
            ]
          },
          "metadata": {
            "tags": []
          },
          "execution_count": 47
        }
      ]
    },
    {
      "cell_type": "code",
      "metadata": {
        "id": "MtMb3MtZ70A3",
        "colab_type": "code",
        "colab": {
          "base_uri": "https://localhost:8080/",
          "height": 34
        },
        "outputId": "9a0a580c-4ce6-47cf-bf1a-108cddd43867"
      },
      "source": [
        "'cd'.partition('lcd')"
      ],
      "execution_count": 49,
      "outputs": [
        {
          "output_type": "execute_result",
          "data": {
            "text/plain": [
              "('cd', '', '')"
            ]
          },
          "metadata": {
            "tags": []
          },
          "execution_count": 49
        }
      ]
    },
    {
      "cell_type": "code",
      "metadata": {
        "id": "yQIpE_qm8Ik_",
        "colab_type": "code",
        "colab": {
          "base_uri": "https://localhost:8080/",
          "height": 34
        },
        "outputId": "3d034bd8-3f84-49a0-88ec-73e5bd4331a6"
      },
      "source": [
        "'abcefd'.replace('cd', '12')"
      ],
      "execution_count": 50,
      "outputs": [
        {
          "output_type": "execute_result",
          "data": {
            "text/plain": [
              "'abcefd'"
            ]
          },
          "metadata": {
            "tags": []
          },
          "execution_count": 50
        }
      ]
    },
    {
      "cell_type": "markdown",
      "metadata": {
        "id": "CWsL4Biq5w_t",
        "colab_type": "text"
      },
      "source": [
        "\n",
        "\n",
        ">>> >> >> ![alt text](https://mw.church/wp-content/uploads/2018/09/next-logo.png)"
      ]
    },
    {
      "cell_type": "code",
      "metadata": {
        "id": "Yq_mZ12Y2bJ4",
        "colab_type": "code",
        "colab": {
          "base_uri": "https://localhost:8080/",
          "height": 34
        },
        "outputId": "af41da2d-bba1-488f-d534-ff1c64365ddc"
      },
      "source": [
        "0.1+0.2 == 0.3"
      ],
      "execution_count": 55,
      "outputs": [
        {
          "output_type": "execute_result",
          "data": {
            "text/plain": [
              "False"
            ]
          },
          "metadata": {
            "tags": []
          },
          "execution_count": 55
        }
      ]
    },
    {
      "cell_type": "code",
      "metadata": {
        "id": "J6CIYHbi2bIN",
        "colab_type": "code",
        "colab": {
          "base_uri": "https://localhost:8080/",
          "height": 34
        },
        "outputId": "746dc3f8-8e2a-4d39-a65f-940123e247d6"
      },
      "source": [
        "print(~3 , ~5 , ~11)"
      ],
      "execution_count": 60,
      "outputs": [
        {
          "output_type": "stream",
          "text": [
            "-4 -6 -12\n"
          ],
          "name": "stdout"
        }
      ]
    },
    {
      "cell_type": "code",
      "metadata": {
        "id": "cex9ct7U52lx",
        "colab_type": "code",
        "colab": {}
      },
      "source": [
        ""
      ],
      "execution_count": 0,
      "outputs": []
    },
    {
      "cell_type": "code",
      "metadata": {
        "id": "EuVLWTNd52jx",
        "colab_type": "code",
        "colab": {}
      },
      "source": [
        ""
      ],
      "execution_count": 0,
      "outputs": []
    },
    {
      "cell_type": "code",
      "metadata": {
        "id": "tdIV_liG52h3",
        "colab_type": "code",
        "colab": {}
      },
      "source": [
        ""
      ],
      "execution_count": 0,
      "outputs": []
    },
    {
      "cell_type": "code",
      "metadata": {
        "id": "6sJ_kXKg52gG",
        "colab_type": "code",
        "colab": {}
      },
      "source": [
        ""
      ],
      "execution_count": 0,
      "outputs": []
    },
    {
      "cell_type": "code",
      "metadata": {
        "id": "Ct1btrwA52dt",
        "colab_type": "code",
        "colab": {}
      },
      "source": [
        ""
      ],
      "execution_count": 0,
      "outputs": []
    },
    {
      "cell_type": "code",
      "metadata": {
        "id": "P13cNtte52bk",
        "colab_type": "code",
        "colab": {}
      },
      "source": [
        ""
      ],
      "execution_count": 0,
      "outputs": []
    },
    {
      "cell_type": "code",
      "metadata": {
        "id": "MTwF9Nbaw7a1",
        "colab_type": "code",
        "colab": {}
      },
      "source": [
        ""
      ],
      "execution_count": 0,
      "outputs": []
    }
  ]
}