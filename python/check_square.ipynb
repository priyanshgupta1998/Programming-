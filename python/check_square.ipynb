{
  "nbformat": 4,
  "nbformat_minor": 0,
  "metadata": {
    "colab": {
      "name": "Welcome To Colaboratory",
      "provenance": [],
      "collapsed_sections": [],
      "include_colab_link": true
    },
    "kernelspec": {
      "name": "python3",
      "display_name": "Python 3"
    },
    "accelerator": "GPU"
  },
  "cells": [
    {
      "cell_type": "markdown",
      "metadata": {
        "id": "view-in-github",
        "colab_type": "text"
      },
      "source": [
        "<a href=\"https://colab.research.google.com/github/priyanshgupta1998/Programming-/blob/master/python/check_square.ipynb\" target=\"_parent\"><img src=\"https://colab.research.google.com/assets/colab-badge.svg\" alt=\"Open In Colab\"/></a>"
      ]
    },
    {
      "cell_type": "code",
      "metadata": {
        "id": "_29q3aKM3kIu",
        "colab_type": "code",
        "colab": {}
      },
      "source": [
        ""
      ],
      "execution_count": 0,
      "outputs": []
    },
    {
      "cell_type": "code",
      "metadata": {
        "id": "4Q4X42gZ3kMk",
        "colab_type": "code",
        "colab": {}
      },
      "source": [
        ""
      ],
      "execution_count": 0,
      "outputs": []
    },
    {
      "cell_type": "code",
      "metadata": {
        "id": "eiJ5Ks2R3kSm",
        "colab_type": "code",
        "colab": {}
      },
      "source": [
        ""
      ],
      "execution_count": 0,
      "outputs": []
    },
    {
      "cell_type": "code",
      "metadata": {
        "id": "ZPdj18Yf3ke5",
        "colab_type": "code",
        "colab": {}
      },
      "source": [
        ""
      ],
      "execution_count": 0,
      "outputs": []
    },
    {
      "cell_type": "code",
      "metadata": {
        "id": "AV9F13Jt3kcQ",
        "colab_type": "code",
        "colab": {}
      },
      "source": [
        ""
      ],
      "execution_count": 0,
      "outputs": []
    },
    {
      "cell_type": "markdown",
      "metadata": {
        "id": "UElQ_Bvs63Cz",
        "colab_type": "text"
      },
      "source": [
        "#How to check if given four points form a square"
      ]
    },
    {
      "cell_type": "code",
      "metadata": {
        "id": "nRB4Bgv93kbA",
        "colab_type": "code",
        "colab": {
          "base_uri": "https://localhost:8080/",
          "height": 34
        },
        "outputId": "955602f9-8636-4221-c591-3635b0290377"
      },
      "source": [
        "\n",
        "\n",
        "# A utility function to find square of distance from point 'p' to point 'q' \n",
        "def distSq( p, q):\n",
        "\treturn (p[0] - q[0]) * (p[0] - q[0]) + (p[1] - q[1]) * (p[1] - q[1])\n",
        "\n",
        "# This function returns True if (p1, p2, p3, p4) form a  square, otherwise false \n",
        "def isSquare( p1, p2,  p3,  p4): \n",
        "  d2 = distSq(p1, p2); # from p1 to p2 \n",
        "  d3 = distSq(p1, p3); # from p1 to p3 \n",
        "  d4 = distSq(p1, p4); # from p1 to p4\n",
        "  #If lengths if (p1, p2) and (p1, p3) are same, then following conditions must met to form a square. \n",
        "  # 1) Square of length of (p1, p4) is same as twice the square of (p1, p2) \n",
        "  # 2) Square of length of (p2, p3) is same as twice the square of (p2, p4) \n",
        "  if (d2 == d3 and 2 * d2 == d4 and (2 * distSq(p2, p4) == distSq(p2, p3))):\n",
        "    return True\n",
        "\n",
        "  #The below two cases are similar to above case \n",
        "  if (d3 == d4 and 2 * d3 == d2 and (2 * distSq(p3, p2) == distSq(p3, p4))): \n",
        "    return True\n",
        "\n",
        "  if (d2 == d4 and 2 * d2 == d3 and (2 * distSq(p2, p3) == distSq(p2, p4))): \n",
        "    return True\n",
        "  return False\n",
        "\n",
        "\n",
        "p1,p2,p3,p4 = [[ 20, 10 ],[10, 20 ], [20, 20 ], [ 10, 10 ]]\n",
        "if(isSquare(p1, p2, p3, p4)):\n",
        "  print(\"Yes\")\n",
        "else:\n",
        "  print(\"No\")\n"
      ],
      "execution_count": 5,
      "outputs": [
        {
          "output_type": "stream",
          "text": [
            "Yes\n"
          ],
          "name": "stdout"
        }
      ]
    },
    {
      "cell_type": "code",
      "metadata": {
        "id": "6a8W4i4M3kZt",
        "colab_type": "code",
        "colab": {}
      },
      "source": [
        ""
      ],
      "execution_count": 0,
      "outputs": []
    },
    {
      "cell_type": "code",
      "metadata": {
        "id": "f28yCakr3kYC",
        "colab_type": "code",
        "colab": {}
      },
      "source": [
        ""
      ],
      "execution_count": 0,
      "outputs": []
    },
    {
      "cell_type": "code",
      "metadata": {
        "id": "zBTn7kJi3kWX",
        "colab_type": "code",
        "colab": {}
      },
      "source": [
        ""
      ],
      "execution_count": 0,
      "outputs": []
    },
    {
      "cell_type": "code",
      "metadata": {
        "id": "sOVHGICl3kQs",
        "colab_type": "code",
        "colab": {}
      },
      "source": [
        ""
      ],
      "execution_count": 0,
      "outputs": []
    }
  ]
}