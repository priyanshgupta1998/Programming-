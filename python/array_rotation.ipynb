{
  "nbformat": 4,
  "nbformat_minor": 0,
  "metadata": {
    "colab": {
      "name": "TensorFlow with GPU",
      "provenance": [],
      "collapsed_sections": [],
      "include_colab_link": true
    },
    "kernelspec": {
      "name": "python3",
      "display_name": "Python 3"
    },
    "accelerator": "GPU"
  },
  "cells": [
    {
      "cell_type": "markdown",
      "metadata": {
        "id": "view-in-github",
        "colab_type": "text"
      },
      "source": [
        "<a href=\"https://colab.research.google.com/github/priyanshgupta1998/Programming-/blob/master/python/array_rotation.ipynb\" target=\"_parent\"><img src=\"https://colab.research.google.com/assets/colab-badge.svg\" alt=\"Open In Colab\"/></a>"
      ]
    },
    {
      "cell_type": "code",
      "metadata": {
        "id": "CHkWLJTMyOXZ",
        "colab_type": "code",
        "colab": {}
      },
      "source": [
        ""
      ],
      "execution_count": 0,
      "outputs": []
    },
    {
      "cell_type": "code",
      "metadata": {
        "id": "Ic85h1XgyObr",
        "colab_type": "code",
        "colab": {}
      },
      "source": [
        ""
      ],
      "execution_count": 0,
      "outputs": []
    },
    {
      "cell_type": "markdown",
      "metadata": {
        "id": "0xk2cYLe9oIR",
        "colab_type": "text"
      },
      "source": [
        "#Program for array rotation"
      ]
    },
    {
      "cell_type": "markdown",
      "metadata": {
        "id": "Of-GSGmZ02ip",
        "colab_type": "text"
      },
      "source": [
        "#Method 2: \n",
        " Time complexity : O(n * d)   \n",
        "Auxiliary Space : O(1)"
      ]
    },
    {
      "cell_type": "code",
      "metadata": {
        "id": "JCG7YW4gyOmP",
        "colab_type": "code",
        "colab": {
          "base_uri": "https://localhost:8080/",
          "height": 34
        },
        "outputId": "5aaea5fa-10a4-4f33-fbaa-c6106110f870"
      },
      "source": [
        "# Python3 program to rotate an array by d elements  \n",
        "# Function to left Rotate arr[] of size n by 1*/ \n",
        "def leftRotatebyOne(arr, n): \n",
        "\ttemp = arr[0] \n",
        "\tfor i in range(n-1): \n",
        "\t\tarr[i] = arr[i + 1] \n",
        "\tarr[n-1] = temp \n",
        "\n",
        "# Function to left rotate arr[] of size n by d*/\n",
        "def leftRotate(arr, d, n): \n",
        "\tfor i in range(d): \n",
        "\t\tleftRotatebyOne(arr, n) \n",
        "\n",
        "\n",
        "# utility function to print an array */ \n",
        "def printArray(arr, size): \n",
        "\tfor i in range(size): \n",
        "\t\tprint (\"% d\"% arr[i], end =\" \") \n",
        "\n",
        "\n",
        "# Driver program to test above functions */ \n",
        "arr = [1, 2, 3, 4, 5, 6, 7] \n",
        "leftRotate(arr, 2, 7)   # IN CLOCKWISE DIRECTION ROTATION\n",
        "printArray(arr, 7) \n"
      ],
      "execution_count": 1,
      "outputs": [
        {
          "output_type": "stream",
          "text": [
            " 3  4  5  6  7  1  2 "
          ],
          "name": "stdout"
        }
      ]
    },
    {
      "cell_type": "markdown",
      "metadata": {
        "id": "ZBiiQuK9Bhgq",
        "colab_type": "text"
      },
      "source": [
        "#Method 2:"
      ]
    },
    {
      "cell_type": "code",
      "metadata": {
        "id": "nOSF98-oyOvM",
        "colab_type": "code",
        "colab": {
          "base_uri": "https://localhost:8080/",
          "height": 119
        },
        "outputId": "3a706fea-b188-49e7-a7d3-68e95f41ceaf"
      },
      "source": [
        "array = [1, 2, 3, 4, 5, 6, 7] \n",
        "size =len(arr)\n",
        "liss = [9,2,4,8,3,1]\n",
        "for rot in liss:\n",
        "  print(*(array[rot%size:] + array[:rot%size]))"
      ],
      "execution_count": 5,
      "outputs": [
        {
          "output_type": "stream",
          "text": [
            "3 4 5 6 7 1 2\n",
            "3 4 5 6 7 1 2\n",
            "5 6 7 1 2 3 4\n",
            "2 3 4 5 6 7 1\n",
            "4 5 6 7 1 2 3\n",
            "2 3 4 5 6 7 1\n"
          ],
          "name": "stdout"
        }
      ]
    },
    {
      "cell_type": "code",
      "metadata": {
        "id": "t9IXJDUiyOs0",
        "colab_type": "code",
        "colab": {}
      },
      "source": [
        ""
      ],
      "execution_count": 0,
      "outputs": []
    },
    {
      "cell_type": "code",
      "metadata": {
        "id": "cGgXaEPsyOqs",
        "colab_type": "code",
        "colab": {}
      },
      "source": [
        ""
      ],
      "execution_count": 0,
      "outputs": []
    },
    {
      "cell_type": "code",
      "metadata": {
        "id": "d04aKLd8yOjr",
        "colab_type": "code",
        "colab": {}
      },
      "source": [
        ""
      ],
      "execution_count": 0,
      "outputs": []
    },
    {
      "cell_type": "markdown",
      "metadata": {
        "id": "ZDYIZz8kCBc5",
        "colab_type": "text"
      },
      "source": [
        "#Method 3:"
      ]
    },
    {
      "cell_type": "code",
      "metadata": {
        "id": "XGrFMqQIA1mf",
        "colab_type": "code",
        "colab": {
          "base_uri": "https://localhost:8080/",
          "height": 34
        },
        "outputId": "67f9cbfb-8bae-49c5-c7b0-279a91e7071a"
      },
      "source": [
        "l = [1, 2, 3, 4, 5, 6, 7] \n",
        "j =2\n",
        "for i in range(7):\n",
        "  print(l[j],end=\" \")\n",
        "  j = (j + 1) % 7\n",
        "print()"
      ],
      "execution_count": 7,
      "outputs": [
        {
          "output_type": "stream",
          "text": [
            "3 4 5 6 7 1 2 \n"
          ],
          "name": "stdout"
        }
      ]
    },
    {
      "cell_type": "code",
      "metadata": {
        "id": "33w5k2E8A1jO",
        "colab_type": "code",
        "colab": {}
      },
      "source": [
        ""
      ],
      "execution_count": 0,
      "outputs": []
    },
    {
      "cell_type": "code",
      "metadata": {
        "id": "jTTFX1EPA1hJ",
        "colab_type": "code",
        "colab": {}
      },
      "source": [
        ""
      ],
      "execution_count": 0,
      "outputs": []
    },
    {
      "cell_type": "code",
      "metadata": {
        "id": "K5CRtLt7A1e1",
        "colab_type": "code",
        "colab": {}
      },
      "source": [
        ""
      ],
      "execution_count": 0,
      "outputs": []
    },
    {
      "cell_type": "code",
      "metadata": {
        "id": "HIL9UawsA1Zh",
        "colab_type": "code",
        "colab": {}
      },
      "source": [
        ""
      ],
      "execution_count": 0,
      "outputs": []
    }
  ]
}