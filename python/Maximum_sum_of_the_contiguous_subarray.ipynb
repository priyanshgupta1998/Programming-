{
  "nbformat": 4,
  "nbformat_minor": 0,
  "metadata": {
    "colab": {
      "name": "TensorFlow with GPU",
      "provenance": [],
      "collapsed_sections": [],
      "include_colab_link": true
    },
    "kernelspec": {
      "name": "python3",
      "display_name": "Python 3"
    },
    "accelerator": "GPU"
  },
  "cells": [
    {
      "cell_type": "markdown",
      "metadata": {
        "id": "view-in-github",
        "colab_type": "text"
      },
      "source": [
        "<a href=\"https://colab.research.google.com/github/priyanshgupta1998/Programming-/blob/master/python/Maximum_sum_of_the_contiguous_subarray.ipynb\" target=\"_parent\"><img src=\"https://colab.research.google.com/assets/colab-badge.svg\" alt=\"Open In Colab\"/></a>"
      ]
    },
    {
      "cell_type": "markdown",
      "metadata": {
        "id": "sjDjQ9UqfZNl",
        "colab_type": "text"
      },
      "source": [
        "# Kadane's Algorithm   (largest/Maximum sum of the contiguous subarray )"
      ]
    },
    {
      "cell_type": "code",
      "metadata": {
        "id": "zHCLtng8fPSF",
        "colab_type": "code",
        "colab": {
          "base_uri": "https://localhost:8080/",
          "height": 51
        },
        "outputId": "72f94204-a56d-4345-8f13-2fca0b355de6"
      },
      "source": [
        "\n",
        "liss = [ [1, 2, 3 ,-2 ,5 ] , [-1, -2 ,-3, -4]]\n",
        "for a in liss:\n",
        "  max_so_far =a[0] \n",
        "  curr_max = a[0]\n",
        "  for i in range(1,len(a)): \n",
        "      curr_max = max(a[i], curr_max + a[i]) \n",
        "      max_so_far = max(max_so_far,curr_max)  \n",
        "  print(max_so_far)\n",
        "          \n",
        "            "
      ],
      "execution_count": 15,
      "outputs": [
        {
          "output_type": "stream",
          "text": [
            "9\n",
            "-4\n"
          ],
          "name": "stdout"
        }
      ]
    },
    {
      "cell_type": "code",
      "metadata": {
        "id": "D329B3HPfPnF",
        "colab_type": "code",
        "colab": {}
      },
      "source": [
        ""
      ],
      "execution_count": 0,
      "outputs": []
    },
    {
      "cell_type": "markdown",
      "metadata": {
        "id": "Hw9Lv1IAjUDu",
        "colab_type": "text"
      },
      "source": [
        "#second Best SOlution --> Priyansh"
      ]
    },
    {
      "cell_type": "code",
      "metadata": {
        "id": "4nj2HzhifPl1",
        "colab_type": "code",
        "colab": {
          "base_uri": "https://localhost:8080/",
          "height": 85
        },
        "outputId": "ab5ab39a-7dd1-4a80-deba-d6222f0eeb18"
      },
      "source": [
        "liss = [ [1, 2, 3 ,-2 ,5 ] , [-1, -2 ,-3, -4]]\n",
        "for arr in liss:\n",
        "  n = len(arr)\n",
        "  dp=[]\n",
        "  dp.append(arr[0])\n",
        "  for i in range(1,n):\n",
        "    dp.append(max(arr[i],dp[i-1]+arr[i]))\n",
        "  print(dp)\n",
        "  print(max(dp))"
      ],
      "execution_count": 12,
      "outputs": [
        {
          "output_type": "stream",
          "text": [
            "[1, 3, 6, 4, 9]\n",
            "9\n",
            "[-1, -2, -3, -4]\n",
            "-1\n"
          ],
          "name": "stdout"
        }
      ]
    },
    {
      "cell_type": "code",
      "metadata": {
        "id": "3IcSn9_gfPkQ",
        "colab_type": "code",
        "colab": {}
      },
      "source": [
        ""
      ],
      "execution_count": 0,
      "outputs": []
    },
    {
      "cell_type": "markdown",
      "metadata": {
        "id": "Kb9_Z1brklyR",
        "colab_type": "text"
      },
      "source": [
        "#Third sOLUTION "
      ]
    },
    {
      "cell_type": "code",
      "metadata": {
        "id": "v9st5p2mfPhI",
        "colab_type": "code",
        "colab": {
          "base_uri": "https://localhost:8080/",
          "height": 51
        },
        "outputId": "0eccf0b0-cbc5-4272-8292-8527b7a3f4c3"
      },
      "source": [
        "liss = [ [1, 2, 3 ,-2 ,5 ] , [-1, -2 ,-3, -4]]\n",
        "for A in liss:\n",
        "  N = len(A)\n",
        "  arrmax=[]\n",
        "  arrmax.append(A[0])\n",
        "  currmax=A[0]\n",
        "  for i in range(1,N):\n",
        "      if(A[i]<currmax+A[i]):\n",
        "          currmax+=A[i]\n",
        "      else:\n",
        "          currmax=A[i]\n",
        "      arrmax.append(currmax)\n",
        "  print(max(arrmax))"
      ],
      "execution_count": 20,
      "outputs": [
        {
          "output_type": "stream",
          "text": [
            "9\n",
            "-1\n"
          ],
          "name": "stdout"
        }
      ]
    },
    {
      "cell_type": "code",
      "metadata": {
        "id": "S0Z4n2FofPft",
        "colab_type": "code",
        "colab": {}
      },
      "source": [
        ""
      ],
      "execution_count": 0,
      "outputs": []
    },
    {
      "cell_type": "code",
      "metadata": {
        "id": "6O-QhuXofPeR",
        "colab_type": "code",
        "colab": {}
      },
      "source": [
        ""
      ],
      "execution_count": 0,
      "outputs": []
    },
    {
      "cell_type": "code",
      "metadata": {
        "id": "T6uouTkofPcp",
        "colab_type": "code",
        "colab": {}
      },
      "source": [
        ""
      ],
      "execution_count": 0,
      "outputs": []
    },
    {
      "cell_type": "code",
      "metadata": {
        "id": "Bl3oeYPYfPam",
        "colab_type": "code",
        "colab": {}
      },
      "source": [
        ""
      ],
      "execution_count": 0,
      "outputs": []
    },
    {
      "cell_type": "code",
      "metadata": {
        "id": "8bjQhg7CfPZZ",
        "colab_type": "code",
        "colab": {}
      },
      "source": [
        ""
      ],
      "execution_count": 0,
      "outputs": []
    },
    {
      "cell_type": "code",
      "metadata": {
        "id": "NGHI34tffPXw",
        "colab_type": "code",
        "colab": {}
      },
      "source": [
        ""
      ],
      "execution_count": 0,
      "outputs": []
    },
    {
      "cell_type": "code",
      "metadata": {
        "id": "DadtPCqzfPV7",
        "colab_type": "code",
        "colab": {}
      },
      "source": [
        ""
      ],
      "execution_count": 0,
      "outputs": []
    }
  ]
}