{
  "nbformat": 4,
  "nbformat_minor": 0,
  "metadata": {
    "colab": {
      "name": "TensorFlow with GPU",
      "provenance": [],
      "collapsed_sections": [],
      "include_colab_link": true
    },
    "kernelspec": {
      "display_name": "Python 3",
      "name": "python3"
    }
  },
  "cells": [
    {
      "cell_type": "markdown",
      "metadata": {
        "id": "view-in-github",
        "colab_type": "text"
      },
      "source": [
        "<a href=\"https://colab.research.google.com/github/priyanshgupta1998/Programming-/blob/master/python/python1.ipynb\" target=\"_parent\"><img src=\"https://colab.research.google.com/assets/colab-badge.svg\" alt=\"Open In Colab\"/></a>"
      ]
    },
    {
      "cell_type": "code",
      "metadata": {
        "id": "0dYBsYe6ashn",
        "colab_type": "code",
        "colab": {}
      },
      "source": [
        ""
      ],
      "execution_count": 0,
      "outputs": []
    },
    {
      "cell_type": "code",
      "metadata": {
        "id": "cgdgzFgIasrh",
        "colab_type": "code",
        "colab": {}
      },
      "source": [
        ""
      ],
      "execution_count": 0,
      "outputs": []
    },
    {
      "cell_type": "code",
      "metadata": {
        "id": "9uXCmtcHasuo",
        "colab_type": "code",
        "colab": {}
      },
      "source": [
        ""
      ],
      "execution_count": 0,
      "outputs": []
    },
    {
      "cell_type": "code",
      "metadata": {
        "id": "-_j8yl6FasqK",
        "colab_type": "code",
        "colab": {
          "base_uri": "https://localhost:8080/",
          "height": 289
        },
        "outputId": "2873a42d-f5a2-4ba6-ef02-76374286f9f9"
      },
      "source": [
        "def powerset(s):\n",
        "    n = len(s)\n",
        "    masks = [1<<j for j in range(n)]\n",
        "    for i in range(2**n):\n",
        "        yield [s[j] for j in range(n) if (masks[j] & i)]\n",
        "\n",
        "\n",
        "if __name__ == '__main__':\n",
        "    for elem in powerset([40,21,34,19]):\n",
        "        print(elem)"
      ],
      "execution_count": 22,
      "outputs": [
        {
          "output_type": "stream",
          "text": [
            "[]\n",
            "[40]\n",
            "[21]\n",
            "[40, 21]\n",
            "[34]\n",
            "[40, 34]\n",
            "[21, 34]\n",
            "[40, 21, 34]\n",
            "[19]\n",
            "[40, 19]\n",
            "[21, 19]\n",
            "[40, 21, 19]\n",
            "[34, 19]\n",
            "[40, 34, 19]\n",
            "[21, 34, 19]\n",
            "[40, 21, 34, 19]\n"
          ],
          "name": "stdout"
        }
      ]
    },
    {
      "cell_type": "code",
      "metadata": {
        "id": "1Vez9FdXasor",
        "colab_type": "code",
        "colab": {
          "base_uri": "https://localhost:8080/",
          "height": 34
        },
        "outputId": "544be366-6769-4d21-9ef7-d044c94264c4"
      },
      "source": [
        "#Find the all the possible subsequence strings  in ascending order of a given String .\n",
        "s = 'azkcue'\n",
        "s= list(s)  #['d', 'e', 'f']\n",
        "liss = []\n",
        "def fun():\n",
        "    for i in s:\n",
        "      liss.append(ord(i))   #[100, 101, 102]\n",
        "    return liss\n",
        "liss = fun()  \n",
        "update = []\n",
        "# print(\" All the possible subsequence strings are : \" , end = ' ' )\n",
        "for i in range(len(liss)-1):  # 0,1\n",
        "  k = []\n",
        "  k.append(s[i])\n",
        "  for j in range(i, len(liss)-1):\n",
        "    #print(liss[j]  , liss[j+1])\n",
        "    if(liss[j] <liss[j+1]):\n",
        "      k.append(s[j+1])\n",
        "    else:\n",
        "      break\n",
        "  if(len(k)>1):\n",
        "    update.append(''.join(k))\n",
        "    \n",
        "update += s\n",
        "update "
      ],
      "execution_count": 64,
      "outputs": [
        {
          "output_type": "execute_result",
          "data": {
            "text/plain": [
              "['az', 'cu', 'a', 'z', 'k', 'c', 'u', 'e']"
            ]
          },
          "metadata": {
            "tags": []
          },
          "execution_count": 64
        }
      ]
    },
    {
      "cell_type": "code",
      "metadata": {
        "id": "PqmqGIsajhH2",
        "colab_type": "code",
        "colab": {}
      },
      "source": [
        ""
      ],
      "execution_count": 0,
      "outputs": []
    },
    {
      "cell_type": "code",
      "metadata": {
        "id": "mLqYObv0jIAm",
        "colab_type": "code",
        "colab": {}
      },
      "source": [
        ""
      ],
      "execution_count": 0,
      "outputs": []
    },
    {
      "cell_type": "code",
      "metadata": {
        "id": "LWtBVkopiUED",
        "colab_type": "code",
        "colab": {
          "base_uri": "https://localhost:8080/",
          "height": 51
        },
        "outputId": "edc4daae-b6ca-4b41-f0da-840176cc1b5f"
      },
      "source": [
        "s1, s2 = 'abcd' , 'bc'\n",
        "\n",
        "idx = s1.find(s2)\n",
        "print(idx)\n",
        "sub = s1[idx:idx+len(s2)]\n",
        "sub"
      ],
      "execution_count": 51,
      "outputs": [
        {
          "output_type": "stream",
          "text": [
            "1\n"
          ],
          "name": "stdout"
        },
        {
          "output_type": "execute_result",
          "data": {
            "text/plain": [
              "'bc'"
            ]
          },
          "metadata": {
            "tags": []
          },
          "execution_count": 51
        }
      ]
    },
    {
      "cell_type": "code",
      "metadata": {
        "id": "Xauu0u2ziUPW",
        "colab_type": "code",
        "colab": {}
      },
      "source": [
        ""
      ],
      "execution_count": 0,
      "outputs": []
    },
    {
      "cell_type": "code",
      "metadata": {
        "id": "VkdHBUB8iUYh",
        "colab_type": "code",
        "colab": {
          "base_uri": "https://localhost:8080/",
          "height": 34
        },
        "outputId": "f01076d8-b5c9-4bd9-a00b-73a9fe05e233"
      },
      "source": [
        "\n",
        "\n",
        "\n",
        "s = 'azkcue'\n",
        "s= list(s)\n",
        "liss = []\n",
        "for i in s:\n",
        "  liss.append(ord(i))\n",
        "  \n",
        "  \n",
        "dic = {}\n",
        "l = len(s)\n",
        "for i in range(l):\n",
        "  dic[s[i]] = liss[i]\n",
        "dic"
      ],
      "execution_count": 50,
      "outputs": [
        {
          "output_type": "execute_result",
          "data": {
            "text/plain": [
              "{'a': 97, 'c': 99, 'e': 101, 'k': 107, 'u': 117, 'z': 122}"
            ]
          },
          "metadata": {
            "tags": []
          },
          "execution_count": 50
        }
      ]
    },
    {
      "cell_type": "code",
      "metadata": {
        "id": "if1k92vBiUWj",
        "colab_type": "code",
        "colab": {}
      },
      "source": [
        ""
      ],
      "execution_count": 0,
      "outputs": []
    },
    {
      "cell_type": "code",
      "metadata": {
        "id": "FKRv6NfliUUp",
        "colab_type": "code",
        "colab": {}
      },
      "source": [
        ""
      ],
      "execution_count": 0,
      "outputs": []
    },
    {
      "cell_type": "code",
      "metadata": {
        "id": "u8j8Qx7biUNs",
        "colab_type": "code",
        "colab": {}
      },
      "source": [
        ""
      ],
      "execution_count": 0,
      "outputs": []
    },
    {
      "cell_type": "code",
      "metadata": {
        "id": "3Ts1Nt15iULn",
        "colab_type": "code",
        "colab": {}
      },
      "source": [
        ""
      ],
      "execution_count": 0,
      "outputs": []
    },
    {
      "cell_type": "code",
      "metadata": {
        "id": "WfAEL_fviUKB",
        "colab_type": "code",
        "colab": {}
      },
      "source": [
        ""
      ],
      "execution_count": 0,
      "outputs": []
    },
    {
      "cell_type": "code",
      "metadata": {
        "id": "WdCDYDsciUHW",
        "colab_type": "code",
        "colab": {}
      },
      "source": [
        ""
      ],
      "execution_count": 0,
      "outputs": []
    },
    {
      "cell_type": "code",
      "metadata": {
        "id": "V9CNveg0iUAs",
        "colab_type": "code",
        "colab": {}
      },
      "source": [
        ""
      ],
      "execution_count": 0,
      "outputs": []
    }
  ]
}