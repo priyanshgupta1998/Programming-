{
  "nbformat": 4,
  "nbformat_minor": 0,
  "metadata": {
    "colab": {
      "name": "Welcome To Colaboratory",
      "provenance": [],
      "collapsed_sections": [],
      "include_colab_link": true
    },
    "kernelspec": {
      "name": "python3",
      "display_name": "Python 3"
    },
    "accelerator": "GPU"
  },
  "cells": [
    {
      "cell_type": "markdown",
      "metadata": {
        "id": "view-in-github",
        "colab_type": "text"
      },
      "source": [
        "<a href=\"https://colab.research.google.com/github/priyanshgupta1998/Programming-/blob/master/python/mergeSort_of_linked_list.ipynb\" target=\"_parent\"><img src=\"https://colab.research.google.com/assets/colab-badge.svg\" alt=\"Open In Colab\"/></a>"
      ]
    },
    {
      "cell_type": "code",
      "metadata": {
        "id": "SFcrla8ofLXY",
        "colab_type": "code",
        "colab": {}
      },
      "source": [
        ""
      ],
      "execution_count": 0,
      "outputs": []
    },
    {
      "cell_type": "code",
      "metadata": {
        "id": "A3houMbnfLrr",
        "colab_type": "code",
        "colab": {}
      },
      "source": [
        ""
      ],
      "execution_count": 0,
      "outputs": []
    },
    {
      "cell_type": "code",
      "metadata": {
        "id": "nk9QwGGAfL-C",
        "colab_type": "code",
        "colab": {}
      },
      "source": [
        ""
      ],
      "execution_count": 0,
      "outputs": []
    },
    {
      "cell_type": "markdown",
      "metadata": {
        "id": "yI1tMR0pfQd6",
        "colab_type": "text"
      },
      "source": [
        "#Merge Sort for Linked Lists"
      ]
    },
    {
      "cell_type": "code",
      "metadata": {
        "id": "c-4ERggCfL7E",
        "colab_type": "code",
        "colab": {
          "base_uri": "https://localhost:8080/",
          "height": 238
        },
        "outputId": "701570c3-982b-44f2-a48b-4af24a022ef6"
      },
      "source": [
        "# Python3 program to merge sort of linked list \n",
        "# create Node using class Node. \n",
        "import random\n",
        "class Node: \n",
        "\tdef __init__(self, data): \n",
        "\t\tself.data = data \n",
        "\t\tself.next = None\n",
        "\n",
        "class LinkedList: \n",
        "  #-----------------------------------------------#\n",
        "  def __init__(self): \n",
        "    self.head = None\n",
        "  #-----------------------------------------------#\n",
        "  # push new value to linked list using append method \n",
        "  def append(self, new_value): \n",
        "    # Allocate new node \n",
        "    new_node = Node(new_value) \n",
        "    # if head is None, initialize it to new node \n",
        "    if self.head is None: \n",
        "      self.head = new_node \n",
        "      return\n",
        "    curr_node = self.head \n",
        "    while curr_node.next is not None: \n",
        "      curr_node = curr_node.next\n",
        "    # Append the new node at the end of the linked list \n",
        "    curr_node.next = new_node \n",
        "\n",
        "  #-----------------------------------------------#\t\t\n",
        "  def sortedMerge(self, a, b): \n",
        "    get = random.randint(1,10)\n",
        "    result = None\n",
        "    # Base cases \n",
        "    if a == None: \n",
        "      return b \n",
        "    if b == None: \n",
        "      return a \n",
        "    # pick either a or b and recur.. \n",
        "    \n",
        "    if a.data <= b.data: \n",
        "      result = a \n",
        "      result.next = self.sortedMerge(a.next, b) \n",
        "    else: \n",
        "      result = b \n",
        "      result.next = self.sortedMerge(a, b.next) \n",
        "    print(result.data,\"with get value : \" , get)\n",
        "    return result \n",
        "\n",
        "  #-----------------------------------------------#\n",
        "  # Utility function to get the middle  of the linked list \n",
        "  def getMiddle(self, head): \n",
        "    if (head == None): \n",
        "      return head \n",
        "    slow = head \n",
        "    fast = head \n",
        "    while (fast.next != None and\n",
        "      fast.next.next != None): \n",
        "      slow = slow.next\n",
        "      fast = fast.next.next\n",
        "    return slow \n",
        "\n",
        "  #-----------------------------------------------#\n",
        "  def mergeSort(self, h): \n",
        "    # Base case if head is None \n",
        "    if h == None or h.next == None: \n",
        "      return h \n",
        "    # get the middle of the list \n",
        "    middle = self.getMiddle(h) \n",
        "    nexttomiddle = middle.next\n",
        "    # set the next of middle node to None \n",
        "    middle.next = None\n",
        "\n",
        "    # Apply mergeSort on left list \n",
        "    left = self.mergeSort(h) \n",
        "    \n",
        "    # Apply mergeSort on right list \n",
        "    right = self.mergeSort(nexttomiddle) \n",
        "\n",
        "    # Merge the left and right lists \n",
        "    sortedlist = self.sortedMerge(left, right) \n",
        "    return sortedlist \n",
        "\n",
        "\n",
        "\t\t\n",
        "# Utility function to print the linked list \n",
        "def printList(head): \n",
        "\tif head is None: \n",
        "\t\tprint(' ') \n",
        "\t\treturn\n",
        "\tcurr_node = head \n",
        "\twhile curr_node: \n",
        "\t\tprint(curr_node.data, end = \" \") \n",
        "\t\tcurr_node = curr_node.next\n",
        "\tprint(' ') \n",
        " \n",
        "\n",
        "li = LinkedList() \n",
        "# Let us create a unsorted linked list to test the functions created. The list shall be a: 2->3->20->5->10->15 \n",
        "li.append(15) \n",
        "li.append(10) \n",
        "li.append(5) \n",
        "li.append(20) \n",
        "li.append(3) \n",
        "li.append(2) \n",
        "print (\"before sorting the Linked List is:\") \n",
        "printList(li.head) \n",
        "# Apply merge Sort \n",
        "li.head = li.mergeSort(li.head) \n",
        "print (\"after Sorting the Linked List is:\") \n",
        "printList(li.head) "
      ],
      "execution_count": 10,
      "outputs": [
        {
          "output_type": "stream",
          "text": [
            "before sorting the Linked List is:\n",
            "15 10 5 20 3 2  \n",
            "10 with get value :  3\n",
            "5 with get value :  10\n",
            "3 with get value :  10\n",
            "2 with get value :  1\n",
            "15 with get value :  1\n",
            "10 with get value :  2\n",
            "5 with get value :  1\n",
            "3 with get value :  6\n",
            "2 with get value :  8\n",
            "after Sorting the Linked List is:\n",
            "2 3 5 10 15 20  \n"
          ],
          "name": "stdout"
        }
      ]
    },
    {
      "cell_type": "code",
      "metadata": {
        "id": "HAqa_d6pfL5X",
        "colab_type": "code",
        "colab": {}
      },
      "source": [
        ""
      ],
      "execution_count": 0,
      "outputs": []
    },
    {
      "cell_type": "code",
      "metadata": {
        "id": "fe_RKTWxoSkR",
        "colab_type": "code",
        "colab": {}
      },
      "source": [
        ""
      ],
      "execution_count": 0,
      "outputs": []
    },
    {
      "cell_type": "code",
      "metadata": {
        "id": "5-XekQRuoSeK",
        "colab_type": "code",
        "colab": {}
      },
      "source": [
        ""
      ],
      "execution_count": 0,
      "outputs": []
    },
    {
      "cell_type": "code",
      "metadata": {
        "id": "YYJD_rhZoScl",
        "colab_type": "code",
        "colab": {}
      },
      "source": [
        ""
      ],
      "execution_count": 0,
      "outputs": []
    },
    {
      "cell_type": "code",
      "metadata": {
        "id": "zLsd54GVoTdE",
        "colab_type": "code",
        "colab": {}
      },
      "source": [
        ""
      ],
      "execution_count": 0,
      "outputs": []
    },
    {
      "cell_type": "code",
      "metadata": {
        "id": "4_oppWmaoTYh",
        "colab_type": "code",
        "colab": {}
      },
      "source": [
        ""
      ],
      "execution_count": 0,
      "outputs": []
    },
    {
      "cell_type": "code",
      "metadata": {
        "id": "KD8jXx8_oTW7",
        "colab_type": "code",
        "colab": {}
      },
      "source": [
        ""
      ],
      "execution_count": 0,
      "outputs": []
    },
    {
      "cell_type": "code",
      "metadata": {
        "id": "5tUAELSBoTVU",
        "colab_type": "code",
        "colab": {}
      },
      "source": [
        ""
      ],
      "execution_count": 0,
      "outputs": []
    },
    {
      "cell_type": "code",
      "metadata": {
        "id": "w6ZZmYAKoTTj",
        "colab_type": "code",
        "colab": {}
      },
      "source": [
        ""
      ],
      "execution_count": 0,
      "outputs": []
    },
    {
      "cell_type": "code",
      "metadata": {
        "id": "bKtLP6Q3oTQ3",
        "colab_type": "code",
        "colab": {}
      },
      "source": [
        ""
      ],
      "execution_count": 0,
      "outputs": []
    },
    {
      "cell_type": "code",
      "metadata": {
        "id": "fPmM1LfUoTNI",
        "colab_type": "code",
        "colab": {}
      },
      "source": [
        ""
      ],
      "execution_count": 0,
      "outputs": []
    },
    {
      "cell_type": "code",
      "metadata": {
        "id": "45VlQkXzoR94",
        "colab_type": "code",
        "colab": {}
      },
      "source": [
        ""
      ],
      "execution_count": 0,
      "outputs": []
    },
    {
      "cell_type": "code",
      "metadata": {
        "id": "jsMf3fh6fL3v",
        "colab_type": "code",
        "colab": {}
      },
      "source": [
        ""
      ],
      "execution_count": 0,
      "outputs": []
    },
    {
      "cell_type": "code",
      "metadata": {
        "id": "rhX4FxbofL2i",
        "colab_type": "code",
        "colab": {}
      },
      "source": [
        ""
      ],
      "execution_count": 0,
      "outputs": []
    },
    {
      "cell_type": "code",
      "metadata": {
        "id": "OiB4PceJfL1U",
        "colab_type": "code",
        "colab": {}
      },
      "source": [
        ""
      ],
      "execution_count": 0,
      "outputs": []
    },
    {
      "cell_type": "code",
      "metadata": {
        "id": "I_wAJQt6fLz_",
        "colab_type": "code",
        "colab": {}
      },
      "source": [
        ""
      ],
      "execution_count": 0,
      "outputs": []
    },
    {
      "cell_type": "code",
      "metadata": {
        "id": "_UlWio5FfLyE",
        "colab_type": "code",
        "colab": {}
      },
      "source": [
        ""
      ],
      "execution_count": 0,
      "outputs": []
    },
    {
      "cell_type": "code",
      "metadata": {
        "id": "4phjDpdMfLvn",
        "colab_type": "code",
        "colab": {}
      },
      "source": [
        ""
      ],
      "execution_count": 0,
      "outputs": []
    },
    {
      "cell_type": "code",
      "metadata": {
        "id": "-y1nzOrNfLpB",
        "colab_type": "code",
        "colab": {}
      },
      "source": [
        ""
      ],
      "execution_count": 0,
      "outputs": []
    },
    {
      "cell_type": "code",
      "metadata": {
        "id": "JI7XKMjKfLlj",
        "colab_type": "code",
        "colab": {}
      },
      "source": [
        ""
      ],
      "execution_count": 0,
      "outputs": []
    },
    {
      "cell_type": "code",
      "metadata": {
        "id": "MjwGRXSAfLkK",
        "colab_type": "code",
        "colab": {}
      },
      "source": [
        ""
      ],
      "execution_count": 0,
      "outputs": []
    },
    {
      "cell_type": "code",
      "metadata": {
        "id": "h8BHeDJWfLim",
        "colab_type": "code",
        "colab": {}
      },
      "source": [
        ""
      ],
      "execution_count": 0,
      "outputs": []
    },
    {
      "cell_type": "code",
      "metadata": {
        "id": "2z0iSLSyfLhO",
        "colab_type": "code",
        "colab": {}
      },
      "source": [
        ""
      ],
      "execution_count": 0,
      "outputs": []
    },
    {
      "cell_type": "code",
      "metadata": {
        "id": "lDtUqj2zfLf3",
        "colab_type": "code",
        "colab": {}
      },
      "source": [
        ""
      ],
      "execution_count": 0,
      "outputs": []
    },
    {
      "cell_type": "code",
      "metadata": {
        "id": "EEbiMkuEfLeW",
        "colab_type": "code",
        "colab": {}
      },
      "source": [
        ""
      ],
      "execution_count": 0,
      "outputs": []
    },
    {
      "cell_type": "code",
      "metadata": {
        "id": "ZtnbWAJ0fLbm",
        "colab_type": "code",
        "colab": {}
      },
      "source": [
        ""
      ],
      "execution_count": 0,
      "outputs": []
    }
  ]
}