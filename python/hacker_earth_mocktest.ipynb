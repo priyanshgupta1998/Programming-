{
  "nbformat": 4,
  "nbformat_minor": 0,
  "metadata": {
    "colab": {
      "name": "TensorFlow with GPU",
      "provenance": [],
      "collapsed_sections": [],
      "toc_visible": true,
      "include_colab_link": true
    },
    "kernelspec": {
      "display_name": "Python 3",
      "name": "python3"
    }
  },
  "cells": [
    {
      "cell_type": "markdown",
      "metadata": {
        "id": "view-in-github",
        "colab_type": "text"
      },
      "source": [
        "<a href=\"https://colab.research.google.com/github/priyanshgupta1998/Programming-/blob/master/python/hacker_earth_mocktest.ipynb\" target=\"_parent\"><img src=\"https://colab.research.google.com/assets/colab-badge.svg\" alt=\"Open In Colab\"/></a>"
      ]
    },
    {
      "cell_type": "code",
      "metadata": {
        "id": "io_Q5dkm2IOv",
        "colab_type": "code",
        "colab": {
          "base_uri": "https://localhost:8080/",
          "height": 34
        },
        "outputId": "5e89a684-c4e4-49ca-df1f-443a143ea0bb"
      },
      "source": [
        "liss = []\n",
        "def binary(x):\n",
        "    if(x>1):\n",
        "      binary(x//2)\n",
        "    liss.append(x%2)\n",
        "    return liss\n",
        "      \n",
        "\n",
        "\n",
        "print(binary(3))"
      ],
      "execution_count": 45,
      "outputs": [
        {
          "output_type": "stream",
          "text": [
            "[1, 1]\n"
          ],
          "name": "stdout"
        }
      ]
    },
    {
      "cell_type": "code",
      "metadata": {
        "id": "d-cjFGaK1zoe",
        "colab_type": "code",
        "colab": {
          "base_uri": "https://localhost:8080/",
          "height": 34
        },
        "outputId": "dbb4ca7e-e85e-466a-8a59-d44e8223ef02"
      },
      "source": [
        "s = '1123'\n",
        "s +=str(4)\n",
        "s"
      ],
      "execution_count": 42,
      "outputs": [
        {
          "output_type": "execute_result",
          "data": {
            "text/plain": [
              "'11234'"
            ]
          },
          "metadata": {
            "tags": []
          },
          "execution_count": 42
        }
      ]
    },
    {
      "cell_type": "code",
      "metadata": {
        "id": "irED736f1zs0",
        "colab_type": "code",
        "colab": {
          "base_uri": "https://localhost:8080/",
          "height": 34
        },
        "outputId": "44b160aa-6aaf-495b-fcc7-d15a54746a93"
      },
      "source": [
        "def convert(s): \n",
        "    new = \"\" \n",
        "    for x in s: \n",
        "        new += x\n",
        "    return new \n",
        "        \n",
        "s = ['g', 'e', 'e', 'k', 's', 'f', 'o', 'r', 'g', 'e', 'e', 'k', 's'] \n",
        "print(convert(s)) "
      ],
      "execution_count": 46,
      "outputs": [
        {
          "output_type": "stream",
          "text": [
            "geeksforgeeks\n"
          ],
          "name": "stdout"
        }
      ]
    },
    {
      "cell_type": "code",
      "metadata": {
        "id": "y9-nO4xd1zzi",
        "colab_type": "code",
        "colab": {}
      },
      "source": [
        ""
      ],
      "execution_count": 0,
      "outputs": []
    },
    {
      "cell_type": "code",
      "metadata": {
        "id": "7vr_HJCr1z3j",
        "colab_type": "code",
        "colab": {}
      },
      "source": [
        ""
      ],
      "execution_count": 0,
      "outputs": []
    },
    {
      "cell_type": "code",
      "metadata": {
        "id": "iLQ10Hfa1z7b",
        "colab_type": "code",
        "colab": {
          "base_uri": "https://localhost:8080/",
          "height": 51
        },
        "outputId": "f2b54c85-cda3-4dcf-c81f-e0450dd591bc"
      },
      "source": [
        "\n",
        "\n",
        "def binary(x ,liss):\n",
        "    if(x>1):\n",
        "        binary(x//2 , liss )\n",
        "    liss.append(str(x%2))\n",
        "    return liss\n",
        "\n",
        "\n",
        "\n",
        "\n",
        "num = list(map(int , input().split()))\n",
        "\n",
        "for i in num:\n",
        "    count = 0 \n",
        "    for j in range(1 , i+1):\n",
        "        liss = []\n",
        "        bini = binary(j , liss)\n",
        "        #print(j , bini)\n",
        "        new = \"\"\n",
        "        for k in bini:\n",
        "            new += k\n",
        "        if(new == new[::-1]):\n",
        "            count+=1\n",
        "    print(count , end =\" \")\n",
        "    \n",
        "        \n",
        "    "
      ],
      "execution_count": 53,
      "outputs": [
        {
          "output_type": "stream",
          "text": [
            "1 2 3\n",
            "1 1 2 "
          ],
          "name": "stdout"
        }
      ]
    },
    {
      "cell_type": "code",
      "metadata": {
        "id": "vFOg8AUf1zyF",
        "colab_type": "code",
        "colab": {
          "base_uri": "https://localhost:8080/",
          "height": 34
        },
        "outputId": "4b2360da-9933-4df8-8182-102143252fe3"
      },
      "source": [
        "# '@Priyansh Gupta'\n",
        "from itertools import permutations\n",
        "liss = []\n",
        "# n1 = int(input())\n",
        "# n2 = int(input())\n",
        "# n3 = int(input())\n",
        "# n4 = int(input())\n",
        "# print(n1,n2,n3,n4)\n",
        "inp = list(map(int, input().split()))\n",
        "#print(inp)\n",
        "\n",
        "\n",
        "perm = permutations(inp)\n",
        "for i in list(perm):\n",
        "    k = list(i)\n",
        "    c = 0\n",
        "    for j in range(len(k)-1):\n",
        "        if(k[j] !=k[j+1]):\n",
        "            c+=1\n",
        "    if(c == len(k) -1):\n",
        "        new =\"\"\n",
        "        for s in k:\n",
        "            new += str(s)\n",
        "        liss.append(new)\n",
        "v = (10**9 + 7)\n",
        "print(len(set(liss))%v)\n",
        "    "
      ],
      "execution_count": 63,
      "outputs": [
        {
          "output_type": "execute_result",
          "data": {
            "text/plain": [
              "2"
            ]
          },
          "metadata": {
            "tags": []
          },
          "execution_count": 63
        }
      ]
    },
    {
      "cell_type": "code",
      "metadata": {
        "id": "sygFAwKuA5OL",
        "colab_type": "code",
        "colab": {
          "base_uri": "https://localhost:8080/",
          "height": 51
        },
        "outputId": "9ddbf247-2e9c-4b65-d6b3-57e732f73b81"
      },
      "source": [
        "inp = list(map(int, input().split()))\n",
        "print(inp)"
      ],
      "execution_count": 65,
      "outputs": [
        {
          "output_type": "stream",
          "text": [
            "1 1 0 0\n",
            "[1, 1, 0, 0]\n"
          ],
          "name": "stdout"
        }
      ]
    },
    {
      "cell_type": "code",
      "metadata": {
        "id": "cy2RHTmGA5Mq",
        "colab_type": "code",
        "colab": {}
      },
      "source": [
        ""
      ],
      "execution_count": 0,
      "outputs": []
    },
    {
      "cell_type": "code",
      "metadata": {
        "id": "HVSql05iA5LG",
        "colab_type": "code",
        "colab": {}
      },
      "source": [
        ""
      ],
      "execution_count": 0,
      "outputs": []
    },
    {
      "cell_type": "code",
      "metadata": {
        "id": "Dh09ffLZA5JN",
        "colab_type": "code",
        "colab": {}
      },
      "source": [
        ""
      ],
      "execution_count": 0,
      "outputs": []
    },
    {
      "cell_type": "code",
      "metadata": {
        "id": "Ykgyqeu7A5He",
        "colab_type": "code",
        "colab": {}
      },
      "source": [
        ""
      ],
      "execution_count": 0,
      "outputs": []
    },
    {
      "cell_type": "code",
      "metadata": {
        "id": "tZtHCBDIA5Fy",
        "colab_type": "code",
        "colab": {}
      },
      "source": [
        ""
      ],
      "execution_count": 0,
      "outputs": []
    },
    {
      "cell_type": "code",
      "metadata": {
        "id": "7S7Sb2aTA5D2",
        "colab_type": "code",
        "colab": {}
      },
      "source": [
        ""
      ],
      "execution_count": 0,
      "outputs": []
    },
    {
      "cell_type": "code",
      "metadata": {
        "id": "lK_6aBaBA5CD",
        "colab_type": "code",
        "colab": {}
      },
      "source": [
        ""
      ],
      "execution_count": 0,
      "outputs": []
    },
    {
      "cell_type": "code",
      "metadata": {
        "id": "wKXy-pQjA4_o",
        "colab_type": "code",
        "colab": {}
      },
      "source": [
        ""
      ],
      "execution_count": 0,
      "outputs": []
    },
    {
      "cell_type": "code",
      "metadata": {
        "id": "SIhItTFcA48r",
        "colab_type": "code",
        "colab": {}
      },
      "source": [
        ""
      ],
      "execution_count": 0,
      "outputs": []
    },
    {
      "cell_type": "code",
      "metadata": {
        "id": "I86o3ZfX1zvy",
        "colab_type": "code",
        "colab": {}
      },
      "source": [
        ""
      ],
      "execution_count": 0,
      "outputs": []
    }
  ]
}